{
 "cells": [
  {
   "cell_type": "code",
   "execution_count": 1,
   "id": "b9128f73a84d6988",
   "metadata": {
    "ExecuteTime": {
     "end_time": "2024-05-22T19:06:27.334605Z",
     "start_time": "2024-05-22T19:06:22.775409Z"
    },
    "collapsed": false,
    "jupyter": {
     "outputs_hidden": false
    }
   },
   "outputs": [
    {
     "data": {
      "application/javascript": [
       "(function(root) {\n",
       "  function now() {\n",
       "    return new Date();\n",
       "  }\n",
       "\n",
       "  var force = true;\n",
       "  var py_version = '3.4.0'.replace('rc', '-rc.').replace('.dev', '-dev.');\n",
       "  var reloading = false;\n",
       "  var Bokeh = root.Bokeh;\n",
       "\n",
       "  if (typeof (root._bokeh_timeout) === \"undefined\" || force) {\n",
       "    root._bokeh_timeout = Date.now() + 5000;\n",
       "    root._bokeh_failed_load = false;\n",
       "  }\n",
       "\n",
       "  function run_callbacks() {\n",
       "    try {\n",
       "      root._bokeh_onload_callbacks.forEach(function(callback) {\n",
       "        if (callback != null)\n",
       "          callback();\n",
       "      });\n",
       "    } finally {\n",
       "      delete root._bokeh_onload_callbacks;\n",
       "    }\n",
       "    console.debug(\"Bokeh: all callbacks have finished\");\n",
       "  }\n",
       "\n",
       "  function load_libs(css_urls, js_urls, js_modules, js_exports, callback) {\n",
       "    if (css_urls == null) css_urls = [];\n",
       "    if (js_urls == null) js_urls = [];\n",
       "    if (js_modules == null) js_modules = [];\n",
       "    if (js_exports == null) js_exports = {};\n",
       "\n",
       "    root._bokeh_onload_callbacks.push(callback);\n",
       "\n",
       "    if (root._bokeh_is_loading > 0) {\n",
       "      console.debug(\"Bokeh: BokehJS is being loaded, scheduling callback at\", now());\n",
       "      return null;\n",
       "    }\n",
       "    if (js_urls.length === 0 && js_modules.length === 0 && Object.keys(js_exports).length === 0) {\n",
       "      run_callbacks();\n",
       "      return null;\n",
       "    }\n",
       "    if (!reloading) {\n",
       "      console.debug(\"Bokeh: BokehJS not loaded, scheduling load and callback at\", now());\n",
       "    }\n",
       "\n",
       "    function on_load() {\n",
       "      root._bokeh_is_loading--;\n",
       "      if (root._bokeh_is_loading === 0) {\n",
       "        console.debug(\"Bokeh: all BokehJS libraries/stylesheets loaded\");\n",
       "        run_callbacks()\n",
       "      }\n",
       "    }\n",
       "    window._bokeh_on_load = on_load\n",
       "\n",
       "    function on_error() {\n",
       "      console.error(\"failed to load \" + url);\n",
       "    }\n",
       "\n",
       "    var skip = [];\n",
       "    if (window.requirejs) {\n",
       "      window.requirejs.config({'packages': {}, 'paths': {}, 'shim': {}});\n",
       "      root._bokeh_is_loading = css_urls.length + 0;\n",
       "    } else {\n",
       "      root._bokeh_is_loading = css_urls.length + js_urls.length + js_modules.length + Object.keys(js_exports).length;\n",
       "    }\n",
       "\n",
       "    var existing_stylesheets = []\n",
       "    var links = document.getElementsByTagName('link')\n",
       "    for (var i = 0; i < links.length; i++) {\n",
       "      var link = links[i]\n",
       "      if (link.href != null) {\n",
       "\texisting_stylesheets.push(link.href)\n",
       "      }\n",
       "    }\n",
       "    for (var i = 0; i < css_urls.length; i++) {\n",
       "      var url = css_urls[i];\n",
       "      if (existing_stylesheets.indexOf(url) !== -1) {\n",
       "\ton_load()\n",
       "\tcontinue;\n",
       "      }\n",
       "      const element = document.createElement(\"link\");\n",
       "      element.onload = on_load;\n",
       "      element.onerror = on_error;\n",
       "      element.rel = \"stylesheet\";\n",
       "      element.type = \"text/css\";\n",
       "      element.href = url;\n",
       "      console.debug(\"Bokeh: injecting link tag for BokehJS stylesheet: \", url);\n",
       "      document.body.appendChild(element);\n",
       "    }    var existing_scripts = []\n",
       "    var scripts = document.getElementsByTagName('script')\n",
       "    for (var i = 0; i < scripts.length; i++) {\n",
       "      var script = scripts[i]\n",
       "      if (script.src != null) {\n",
       "\texisting_scripts.push(script.src)\n",
       "      }\n",
       "    }\n",
       "    for (var i = 0; i < js_urls.length; i++) {\n",
       "      var url = js_urls[i];\n",
       "      if (skip.indexOf(url) !== -1 || existing_scripts.indexOf(url) !== -1) {\n",
       "\tif (!window.requirejs) {\n",
       "\t  on_load();\n",
       "\t}\n",
       "\tcontinue;\n",
       "      }\n",
       "      var element = document.createElement('script');\n",
       "      element.onload = on_load;\n",
       "      element.onerror = on_error;\n",
       "      element.async = false;\n",
       "      element.src = url;\n",
       "      console.debug(\"Bokeh: injecting script tag for BokehJS library: \", url);\n",
       "      document.head.appendChild(element);\n",
       "    }\n",
       "    for (var i = 0; i < js_modules.length; i++) {\n",
       "      var url = js_modules[i];\n",
       "      if (skip.indexOf(url) !== -1 || existing_scripts.indexOf(url) !== -1) {\n",
       "\tif (!window.requirejs) {\n",
       "\t  on_load();\n",
       "\t}\n",
       "\tcontinue;\n",
       "      }\n",
       "      var element = document.createElement('script');\n",
       "      element.onload = on_load;\n",
       "      element.onerror = on_error;\n",
       "      element.async = false;\n",
       "      element.src = url;\n",
       "      element.type = \"module\";\n",
       "      console.debug(\"Bokeh: injecting script tag for BokehJS library: \", url);\n",
       "      document.head.appendChild(element);\n",
       "    }\n",
       "    for (const name in js_exports) {\n",
       "      var url = js_exports[name];\n",
       "      if (skip.indexOf(url) >= 0 || root[name] != null) {\n",
       "\tif (!window.requirejs) {\n",
       "\t  on_load();\n",
       "\t}\n",
       "\tcontinue;\n",
       "      }\n",
       "      var element = document.createElement('script');\n",
       "      element.onerror = on_error;\n",
       "      element.async = false;\n",
       "      element.type = \"module\";\n",
       "      console.debug(\"Bokeh: injecting script tag for BokehJS library: \", url);\n",
       "      element.textContent = `\n",
       "      import ${name} from \"${url}\"\n",
       "      window.${name} = ${name}\n",
       "      window._bokeh_on_load()\n",
       "      `\n",
       "      document.head.appendChild(element);\n",
       "    }\n",
       "    if (!js_urls.length && !js_modules.length) {\n",
       "      on_load()\n",
       "    }\n",
       "  };\n",
       "\n",
       "  function inject_raw_css(css) {\n",
       "    const element = document.createElement(\"style\");\n",
       "    element.appendChild(document.createTextNode(css));\n",
       "    document.body.appendChild(element);\n",
       "  }\n",
       "\n",
       "  var js_urls = [\"https://cdn.bokeh.org/bokeh/release/bokeh-3.4.0.min.js\", \"https://cdn.bokeh.org/bokeh/release/bokeh-gl-3.4.0.min.js\", \"https://cdn.bokeh.org/bokeh/release/bokeh-widgets-3.4.0.min.js\", \"https://cdn.bokeh.org/bokeh/release/bokeh-tables-3.4.0.min.js\", \"https://cdn.holoviz.org/panel/1.4.2/dist/panel.min.js\"];\n",
       "  var js_modules = [];\n",
       "  var js_exports = {};\n",
       "  var css_urls = [];\n",
       "  var inline_js = [    function(Bokeh) {\n",
       "      Bokeh.set_log_level(\"info\");\n",
       "    },\n",
       "function(Bokeh) {} // ensure no trailing comma for IE\n",
       "  ];\n",
       "\n",
       "  function run_inline_js() {\n",
       "    if ((root.Bokeh !== undefined) || (force === true)) {\n",
       "      for (var i = 0; i < inline_js.length; i++) {\n",
       "\ttry {\n",
       "          inline_js[i].call(root, root.Bokeh);\n",
       "\t} catch(e) {\n",
       "\t  if (!reloading) {\n",
       "\t    throw e;\n",
       "\t  }\n",
       "\t}\n",
       "      }\n",
       "      // Cache old bokeh versions\n",
       "      if (Bokeh != undefined && !reloading) {\n",
       "\tvar NewBokeh = root.Bokeh;\n",
       "\tif (Bokeh.versions === undefined) {\n",
       "\t  Bokeh.versions = new Map();\n",
       "\t}\n",
       "\tif (NewBokeh.version !== Bokeh.version) {\n",
       "\t  Bokeh.versions.set(NewBokeh.version, NewBokeh)\n",
       "\t}\n",
       "\troot.Bokeh = Bokeh;\n",
       "      }} else if (Date.now() < root._bokeh_timeout) {\n",
       "      setTimeout(run_inline_js, 100);\n",
       "    } else if (!root._bokeh_failed_load) {\n",
       "      console.log(\"Bokeh: BokehJS failed to load within specified timeout.\");\n",
       "      root._bokeh_failed_load = true;\n",
       "    }\n",
       "    root._bokeh_is_initializing = false\n",
       "  }\n",
       "\n",
       "  function load_or_wait() {\n",
       "    // Implement a backoff loop that tries to ensure we do not load multiple\n",
       "    // versions of Bokeh and its dependencies at the same time.\n",
       "    // In recent versions we use the root._bokeh_is_initializing flag\n",
       "    // to determine whether there is an ongoing attempt to initialize\n",
       "    // bokeh, however for backward compatibility we also try to ensure\n",
       "    // that we do not start loading a newer (Panel>=1.0 and Bokeh>3) version\n",
       "    // before older versions are fully initialized.\n",
       "    if (root._bokeh_is_initializing && Date.now() > root._bokeh_timeout) {\n",
       "      root._bokeh_is_initializing = false;\n",
       "      root._bokeh_onload_callbacks = undefined;\n",
       "      console.log(\"Bokeh: BokehJS was loaded multiple times but one version failed to initialize.\");\n",
       "      load_or_wait();\n",
       "    } else if (root._bokeh_is_initializing || (typeof root._bokeh_is_initializing === \"undefined\" && root._bokeh_onload_callbacks !== undefined)) {\n",
       "      setTimeout(load_or_wait, 100);\n",
       "    } else {\n",
       "      root._bokeh_is_initializing = true\n",
       "      root._bokeh_onload_callbacks = []\n",
       "      var bokeh_loaded = Bokeh != null && (Bokeh.version === py_version || (Bokeh.versions !== undefined && Bokeh.versions.has(py_version)));\n",
       "      if (!reloading && !bokeh_loaded) {\n",
       "\troot.Bokeh = undefined;\n",
       "      }\n",
       "      load_libs(css_urls, js_urls, js_modules, js_exports, function() {\n",
       "\tconsole.debug(\"Bokeh: BokehJS plotting callback run at\", now());\n",
       "\trun_inline_js();\n",
       "      });\n",
       "    }\n",
       "  }\n",
       "  // Give older versions of the autoload script a head-start to ensure\n",
       "  // they initialize before we start loading newer version.\n",
       "  setTimeout(load_or_wait, 100)\n",
       "}(window));"
      ],
      "application/vnd.holoviews_load.v0+json": "(function(root) {\n  function now() {\n    return new Date();\n  }\n\n  var force = true;\n  var py_version = '3.4.0'.replace('rc', '-rc.').replace('.dev', '-dev.');\n  var reloading = false;\n  var Bokeh = root.Bokeh;\n\n  if (typeof (root._bokeh_timeout) === \"undefined\" || force) {\n    root._bokeh_timeout = Date.now() + 5000;\n    root._bokeh_failed_load = false;\n  }\n\n  function run_callbacks() {\n    try {\n      root._bokeh_onload_callbacks.forEach(function(callback) {\n        if (callback != null)\n          callback();\n      });\n    } finally {\n      delete root._bokeh_onload_callbacks;\n    }\n    console.debug(\"Bokeh: all callbacks have finished\");\n  }\n\n  function load_libs(css_urls, js_urls, js_modules, js_exports, callback) {\n    if (css_urls == null) css_urls = [];\n    if (js_urls == null) js_urls = [];\n    if (js_modules == null) js_modules = [];\n    if (js_exports == null) js_exports = {};\n\n    root._bokeh_onload_callbacks.push(callback);\n\n    if (root._bokeh_is_loading > 0) {\n      console.debug(\"Bokeh: BokehJS is being loaded, scheduling callback at\", now());\n      return null;\n    }\n    if (js_urls.length === 0 && js_modules.length === 0 && Object.keys(js_exports).length === 0) {\n      run_callbacks();\n      return null;\n    }\n    if (!reloading) {\n      console.debug(\"Bokeh: BokehJS not loaded, scheduling load and callback at\", now());\n    }\n\n    function on_load() {\n      root._bokeh_is_loading--;\n      if (root._bokeh_is_loading === 0) {\n        console.debug(\"Bokeh: all BokehJS libraries/stylesheets loaded\");\n        run_callbacks()\n      }\n    }\n    window._bokeh_on_load = on_load\n\n    function on_error() {\n      console.error(\"failed to load \" + url);\n    }\n\n    var skip = [];\n    if (window.requirejs) {\n      window.requirejs.config({'packages': {}, 'paths': {}, 'shim': {}});\n      root._bokeh_is_loading = css_urls.length + 0;\n    } else {\n      root._bokeh_is_loading = css_urls.length + js_urls.length + js_modules.length + Object.keys(js_exports).length;\n    }\n\n    var existing_stylesheets = []\n    var links = document.getElementsByTagName('link')\n    for (var i = 0; i < links.length; i++) {\n      var link = links[i]\n      if (link.href != null) {\n\texisting_stylesheets.push(link.href)\n      }\n    }\n    for (var i = 0; i < css_urls.length; i++) {\n      var url = css_urls[i];\n      if (existing_stylesheets.indexOf(url) !== -1) {\n\ton_load()\n\tcontinue;\n      }\n      const element = document.createElement(\"link\");\n      element.onload = on_load;\n      element.onerror = on_error;\n      element.rel = \"stylesheet\";\n      element.type = \"text/css\";\n      element.href = url;\n      console.debug(\"Bokeh: injecting link tag for BokehJS stylesheet: \", url);\n      document.body.appendChild(element);\n    }    var existing_scripts = []\n    var scripts = document.getElementsByTagName('script')\n    for (var i = 0; i < scripts.length; i++) {\n      var script = scripts[i]\n      if (script.src != null) {\n\texisting_scripts.push(script.src)\n      }\n    }\n    for (var i = 0; i < js_urls.length; i++) {\n      var url = js_urls[i];\n      if (skip.indexOf(url) !== -1 || existing_scripts.indexOf(url) !== -1) {\n\tif (!window.requirejs) {\n\t  on_load();\n\t}\n\tcontinue;\n      }\n      var element = document.createElement('script');\n      element.onload = on_load;\n      element.onerror = on_error;\n      element.async = false;\n      element.src = url;\n      console.debug(\"Bokeh: injecting script tag for BokehJS library: \", url);\n      document.head.appendChild(element);\n    }\n    for (var i = 0; i < js_modules.length; i++) {\n      var url = js_modules[i];\n      if (skip.indexOf(url) !== -1 || existing_scripts.indexOf(url) !== -1) {\n\tif (!window.requirejs) {\n\t  on_load();\n\t}\n\tcontinue;\n      }\n      var element = document.createElement('script');\n      element.onload = on_load;\n      element.onerror = on_error;\n      element.async = false;\n      element.src = url;\n      element.type = \"module\";\n      console.debug(\"Bokeh: injecting script tag for BokehJS library: \", url);\n      document.head.appendChild(element);\n    }\n    for (const name in js_exports) {\n      var url = js_exports[name];\n      if (skip.indexOf(url) >= 0 || root[name] != null) {\n\tif (!window.requirejs) {\n\t  on_load();\n\t}\n\tcontinue;\n      }\n      var element = document.createElement('script');\n      element.onerror = on_error;\n      element.async = false;\n      element.type = \"module\";\n      console.debug(\"Bokeh: injecting script tag for BokehJS library: \", url);\n      element.textContent = `\n      import ${name} from \"${url}\"\n      window.${name} = ${name}\n      window._bokeh_on_load()\n      `\n      document.head.appendChild(element);\n    }\n    if (!js_urls.length && !js_modules.length) {\n      on_load()\n    }\n  };\n\n  function inject_raw_css(css) {\n    const element = document.createElement(\"style\");\n    element.appendChild(document.createTextNode(css));\n    document.body.appendChild(element);\n  }\n\n  var js_urls = [\"https://cdn.bokeh.org/bokeh/release/bokeh-3.4.0.min.js\", \"https://cdn.bokeh.org/bokeh/release/bokeh-gl-3.4.0.min.js\", \"https://cdn.bokeh.org/bokeh/release/bokeh-widgets-3.4.0.min.js\", \"https://cdn.bokeh.org/bokeh/release/bokeh-tables-3.4.0.min.js\", \"https://cdn.holoviz.org/panel/1.4.2/dist/panel.min.js\"];\n  var js_modules = [];\n  var js_exports = {};\n  var css_urls = [];\n  var inline_js = [    function(Bokeh) {\n      Bokeh.set_log_level(\"info\");\n    },\nfunction(Bokeh) {} // ensure no trailing comma for IE\n  ];\n\n  function run_inline_js() {\n    if ((root.Bokeh !== undefined) || (force === true)) {\n      for (var i = 0; i < inline_js.length; i++) {\n\ttry {\n          inline_js[i].call(root, root.Bokeh);\n\t} catch(e) {\n\t  if (!reloading) {\n\t    throw e;\n\t  }\n\t}\n      }\n      // Cache old bokeh versions\n      if (Bokeh != undefined && !reloading) {\n\tvar NewBokeh = root.Bokeh;\n\tif (Bokeh.versions === undefined) {\n\t  Bokeh.versions = new Map();\n\t}\n\tif (NewBokeh.version !== Bokeh.version) {\n\t  Bokeh.versions.set(NewBokeh.version, NewBokeh)\n\t}\n\troot.Bokeh = Bokeh;\n      }} else if (Date.now() < root._bokeh_timeout) {\n      setTimeout(run_inline_js, 100);\n    } else if (!root._bokeh_failed_load) {\n      console.log(\"Bokeh: BokehJS failed to load within specified timeout.\");\n      root._bokeh_failed_load = true;\n    }\n    root._bokeh_is_initializing = false\n  }\n\n  function load_or_wait() {\n    // Implement a backoff loop that tries to ensure we do not load multiple\n    // versions of Bokeh and its dependencies at the same time.\n    // In recent versions we use the root._bokeh_is_initializing flag\n    // to determine whether there is an ongoing attempt to initialize\n    // bokeh, however for backward compatibility we also try to ensure\n    // that we do not start loading a newer (Panel>=1.0 and Bokeh>3) version\n    // before older versions are fully initialized.\n    if (root._bokeh_is_initializing && Date.now() > root._bokeh_timeout) {\n      root._bokeh_is_initializing = false;\n      root._bokeh_onload_callbacks = undefined;\n      console.log(\"Bokeh: BokehJS was loaded multiple times but one version failed to initialize.\");\n      load_or_wait();\n    } else if (root._bokeh_is_initializing || (typeof root._bokeh_is_initializing === \"undefined\" && root._bokeh_onload_callbacks !== undefined)) {\n      setTimeout(load_or_wait, 100);\n    } else {\n      root._bokeh_is_initializing = true\n      root._bokeh_onload_callbacks = []\n      var bokeh_loaded = Bokeh != null && (Bokeh.version === py_version || (Bokeh.versions !== undefined && Bokeh.versions.has(py_version)));\n      if (!reloading && !bokeh_loaded) {\n\troot.Bokeh = undefined;\n      }\n      load_libs(css_urls, js_urls, js_modules, js_exports, function() {\n\tconsole.debug(\"Bokeh: BokehJS plotting callback run at\", now());\n\trun_inline_js();\n      });\n    }\n  }\n  // Give older versions of the autoload script a head-start to ensure\n  // they initialize before we start loading newer version.\n  setTimeout(load_or_wait, 100)\n}(window));"
     },
     "metadata": {},
     "output_type": "display_data"
    },
    {
     "data": {
      "application/javascript": [
       "\n",
       "if ((window.PyViz === undefined) || (window.PyViz instanceof HTMLElement)) {\n",
       "  window.PyViz = {comms: {}, comm_status:{}, kernels:{}, receivers: {}, plot_index: []}\n",
       "}\n",
       "\n",
       "\n",
       "    function JupyterCommManager() {\n",
       "    }\n",
       "\n",
       "    JupyterCommManager.prototype.register_target = function(plot_id, comm_id, msg_handler) {\n",
       "      if (window.comm_manager || ((window.Jupyter !== undefined) && (Jupyter.notebook.kernel != null))) {\n",
       "        var comm_manager = window.comm_manager || Jupyter.notebook.kernel.comm_manager;\n",
       "        comm_manager.register_target(comm_id, function(comm) {\n",
       "          comm.on_msg(msg_handler);\n",
       "        });\n",
       "      } else if ((plot_id in window.PyViz.kernels) && (window.PyViz.kernels[plot_id])) {\n",
       "        window.PyViz.kernels[plot_id].registerCommTarget(comm_id, function(comm) {\n",
       "          comm.onMsg = msg_handler;\n",
       "        });\n",
       "      } else if (typeof google != 'undefined' && google.colab.kernel != null) {\n",
       "        google.colab.kernel.comms.registerTarget(comm_id, (comm) => {\n",
       "          var messages = comm.messages[Symbol.asyncIterator]();\n",
       "          function processIteratorResult(result) {\n",
       "            var message = result.value;\n",
       "            console.log(message)\n",
       "            var content = {data: message.data, comm_id};\n",
       "            var buffers = []\n",
       "            for (var buffer of message.buffers || []) {\n",
       "              buffers.push(new DataView(buffer))\n",
       "            }\n",
       "            var metadata = message.metadata || {};\n",
       "            var msg = {content, buffers, metadata}\n",
       "            msg_handler(msg);\n",
       "            return messages.next().then(processIteratorResult);\n",
       "          }\n",
       "          return messages.next().then(processIteratorResult);\n",
       "        })\n",
       "      }\n",
       "    }\n",
       "\n",
       "    JupyterCommManager.prototype.get_client_comm = function(plot_id, comm_id, msg_handler) {\n",
       "      if (comm_id in window.PyViz.comms) {\n",
       "        return window.PyViz.comms[comm_id];\n",
       "      } else if (window.comm_manager || ((window.Jupyter !== undefined) && (Jupyter.notebook.kernel != null))) {\n",
       "        var comm_manager = window.comm_manager || Jupyter.notebook.kernel.comm_manager;\n",
       "        var comm = comm_manager.new_comm(comm_id, {}, {}, {}, comm_id);\n",
       "        if (msg_handler) {\n",
       "          comm.on_msg(msg_handler);\n",
       "        }\n",
       "      } else if ((plot_id in window.PyViz.kernels) && (window.PyViz.kernels[plot_id])) {\n",
       "        var comm = window.PyViz.kernels[plot_id].connectToComm(comm_id);\n",
       "        comm.open();\n",
       "        if (msg_handler) {\n",
       "          comm.onMsg = msg_handler;\n",
       "        }\n",
       "      } else if (typeof google != 'undefined' && google.colab.kernel != null) {\n",
       "        var comm_promise = google.colab.kernel.comms.open(comm_id)\n",
       "        comm_promise.then((comm) => {\n",
       "          window.PyViz.comms[comm_id] = comm;\n",
       "          if (msg_handler) {\n",
       "            var messages = comm.messages[Symbol.asyncIterator]();\n",
       "            function processIteratorResult(result) {\n",
       "              var message = result.value;\n",
       "              var content = {data: message.data};\n",
       "              var metadata = message.metadata || {comm_id};\n",
       "              var msg = {content, metadata}\n",
       "              msg_handler(msg);\n",
       "              return messages.next().then(processIteratorResult);\n",
       "            }\n",
       "            return messages.next().then(processIteratorResult);\n",
       "          }\n",
       "        }) \n",
       "        var sendClosure = (data, metadata, buffers, disposeOnDone) => {\n",
       "          return comm_promise.then((comm) => {\n",
       "            comm.send(data, metadata, buffers, disposeOnDone);\n",
       "          });\n",
       "        };\n",
       "        var comm = {\n",
       "          send: sendClosure\n",
       "        };\n",
       "      }\n",
       "      window.PyViz.comms[comm_id] = comm;\n",
       "      return comm;\n",
       "    }\n",
       "    window.PyViz.comm_manager = new JupyterCommManager();\n",
       "    \n",
       "\n",
       "\n",
       "var JS_MIME_TYPE = 'application/javascript';\n",
       "var HTML_MIME_TYPE = 'text/html';\n",
       "var EXEC_MIME_TYPE = 'application/vnd.holoviews_exec.v0+json';\n",
       "var CLASS_NAME = 'output';\n",
       "\n",
       "/**\n",
       " * Render data to the DOM node\n",
       " */\n",
       "function render(props, node) {\n",
       "  var div = document.createElement(\"div\");\n",
       "  var script = document.createElement(\"script\");\n",
       "  node.appendChild(div);\n",
       "  node.appendChild(script);\n",
       "}\n",
       "\n",
       "/**\n",
       " * Handle when a new output is added\n",
       " */\n",
       "function handle_add_output(event, handle) {\n",
       "  var output_area = handle.output_area;\n",
       "  var output = handle.output;\n",
       "  if ((output.data == undefined) || (!output.data.hasOwnProperty(EXEC_MIME_TYPE))) {\n",
       "    return\n",
       "  }\n",
       "  var id = output.metadata[EXEC_MIME_TYPE][\"id\"];\n",
       "  var toinsert = output_area.element.find(\".\" + CLASS_NAME.split(' ')[0]);\n",
       "  if (id !== undefined) {\n",
       "    var nchildren = toinsert.length;\n",
       "    var html_node = toinsert[nchildren-1].children[0];\n",
       "    html_node.innerHTML = output.data[HTML_MIME_TYPE];\n",
       "    var scripts = [];\n",
       "    var nodelist = html_node.querySelectorAll(\"script\");\n",
       "    for (var i in nodelist) {\n",
       "      if (nodelist.hasOwnProperty(i)) {\n",
       "        scripts.push(nodelist[i])\n",
       "      }\n",
       "    }\n",
       "\n",
       "    scripts.forEach( function (oldScript) {\n",
       "      var newScript = document.createElement(\"script\");\n",
       "      var attrs = [];\n",
       "      var nodemap = oldScript.attributes;\n",
       "      for (var j in nodemap) {\n",
       "        if (nodemap.hasOwnProperty(j)) {\n",
       "          attrs.push(nodemap[j])\n",
       "        }\n",
       "      }\n",
       "      attrs.forEach(function(attr) { newScript.setAttribute(attr.name, attr.value) });\n",
       "      newScript.appendChild(document.createTextNode(oldScript.innerHTML));\n",
       "      oldScript.parentNode.replaceChild(newScript, oldScript);\n",
       "    });\n",
       "    if (JS_MIME_TYPE in output.data) {\n",
       "      toinsert[nchildren-1].children[1].textContent = output.data[JS_MIME_TYPE];\n",
       "    }\n",
       "    output_area._hv_plot_id = id;\n",
       "    if ((window.Bokeh !== undefined) && (id in Bokeh.index)) {\n",
       "      window.PyViz.plot_index[id] = Bokeh.index[id];\n",
       "    } else {\n",
       "      window.PyViz.plot_index[id] = null;\n",
       "    }\n",
       "  } else if (output.metadata[EXEC_MIME_TYPE][\"server_id\"] !== undefined) {\n",
       "    var bk_div = document.createElement(\"div\");\n",
       "    bk_div.innerHTML = output.data[HTML_MIME_TYPE];\n",
       "    var script_attrs = bk_div.children[0].attributes;\n",
       "    for (var i = 0; i < script_attrs.length; i++) {\n",
       "      toinsert[toinsert.length - 1].childNodes[1].setAttribute(script_attrs[i].name, script_attrs[i].value);\n",
       "    }\n",
       "    // store reference to server id on output_area\n",
       "    output_area._bokeh_server_id = output.metadata[EXEC_MIME_TYPE][\"server_id\"];\n",
       "  }\n",
       "}\n",
       "\n",
       "/**\n",
       " * Handle when an output is cleared or removed\n",
       " */\n",
       "function handle_clear_output(event, handle) {\n",
       "  var id = handle.cell.output_area._hv_plot_id;\n",
       "  var server_id = handle.cell.output_area._bokeh_server_id;\n",
       "  if (((id === undefined) || !(id in PyViz.plot_index)) && (server_id !== undefined)) { return; }\n",
       "  var comm = window.PyViz.comm_manager.get_client_comm(\"hv-extension-comm\", \"hv-extension-comm\", function () {});\n",
       "  if (server_id !== null) {\n",
       "    comm.send({event_type: 'server_delete', 'id': server_id});\n",
       "    return;\n",
       "  } else if (comm !== null) {\n",
       "    comm.send({event_type: 'delete', 'id': id});\n",
       "  }\n",
       "  delete PyViz.plot_index[id];\n",
       "  if ((window.Bokeh !== undefined) & (id in window.Bokeh.index)) {\n",
       "    var doc = window.Bokeh.index[id].model.document\n",
       "    doc.clear();\n",
       "    const i = window.Bokeh.documents.indexOf(doc);\n",
       "    if (i > -1) {\n",
       "      window.Bokeh.documents.splice(i, 1);\n",
       "    }\n",
       "  }\n",
       "}\n",
       "\n",
       "/**\n",
       " * Handle kernel restart event\n",
       " */\n",
       "function handle_kernel_cleanup(event, handle) {\n",
       "  delete PyViz.comms[\"hv-extension-comm\"];\n",
       "  window.PyViz.plot_index = {}\n",
       "}\n",
       "\n",
       "/**\n",
       " * Handle update_display_data messages\n",
       " */\n",
       "function handle_update_output(event, handle) {\n",
       "  handle_clear_output(event, {cell: {output_area: handle.output_area}})\n",
       "  handle_add_output(event, handle)\n",
       "}\n",
       "\n",
       "function register_renderer(events, OutputArea) {\n",
       "  function append_mime(data, metadata, element) {\n",
       "    // create a DOM node to render to\n",
       "    var toinsert = this.create_output_subarea(\n",
       "    metadata,\n",
       "    CLASS_NAME,\n",
       "    EXEC_MIME_TYPE\n",
       "    );\n",
       "    this.keyboard_manager.register_events(toinsert);\n",
       "    // Render to node\n",
       "    var props = {data: data, metadata: metadata[EXEC_MIME_TYPE]};\n",
       "    render(props, toinsert[0]);\n",
       "    element.append(toinsert);\n",
       "    return toinsert\n",
       "  }\n",
       "\n",
       "  events.on('output_added.OutputArea', handle_add_output);\n",
       "  events.on('output_updated.OutputArea', handle_update_output);\n",
       "  events.on('clear_output.CodeCell', handle_clear_output);\n",
       "  events.on('delete.Cell', handle_clear_output);\n",
       "  events.on('kernel_ready.Kernel', handle_kernel_cleanup);\n",
       "\n",
       "  OutputArea.prototype.register_mime_type(EXEC_MIME_TYPE, append_mime, {\n",
       "    safe: true,\n",
       "    index: 0\n",
       "  });\n",
       "}\n",
       "\n",
       "if (window.Jupyter !== undefined) {\n",
       "  try {\n",
       "    var events = require('base/js/events');\n",
       "    var OutputArea = require('notebook/js/outputarea').OutputArea;\n",
       "    if (OutputArea.prototype.mime_types().indexOf(EXEC_MIME_TYPE) == -1) {\n",
       "      register_renderer(events, OutputArea);\n",
       "    }\n",
       "  } catch(err) {\n",
       "  }\n",
       "}\n"
      ],
      "application/vnd.holoviews_load.v0+json": "\nif ((window.PyViz === undefined) || (window.PyViz instanceof HTMLElement)) {\n  window.PyViz = {comms: {}, comm_status:{}, kernels:{}, receivers: {}, plot_index: []}\n}\n\n\n    function JupyterCommManager() {\n    }\n\n    JupyterCommManager.prototype.register_target = function(plot_id, comm_id, msg_handler) {\n      if (window.comm_manager || ((window.Jupyter !== undefined) && (Jupyter.notebook.kernel != null))) {\n        var comm_manager = window.comm_manager || Jupyter.notebook.kernel.comm_manager;\n        comm_manager.register_target(comm_id, function(comm) {\n          comm.on_msg(msg_handler);\n        });\n      } else if ((plot_id in window.PyViz.kernels) && (window.PyViz.kernels[plot_id])) {\n        window.PyViz.kernels[plot_id].registerCommTarget(comm_id, function(comm) {\n          comm.onMsg = msg_handler;\n        });\n      } else if (typeof google != 'undefined' && google.colab.kernel != null) {\n        google.colab.kernel.comms.registerTarget(comm_id, (comm) => {\n          var messages = comm.messages[Symbol.asyncIterator]();\n          function processIteratorResult(result) {\n            var message = result.value;\n            console.log(message)\n            var content = {data: message.data, comm_id};\n            var buffers = []\n            for (var buffer of message.buffers || []) {\n              buffers.push(new DataView(buffer))\n            }\n            var metadata = message.metadata || {};\n            var msg = {content, buffers, metadata}\n            msg_handler(msg);\n            return messages.next().then(processIteratorResult);\n          }\n          return messages.next().then(processIteratorResult);\n        })\n      }\n    }\n\n    JupyterCommManager.prototype.get_client_comm = function(plot_id, comm_id, msg_handler) {\n      if (comm_id in window.PyViz.comms) {\n        return window.PyViz.comms[comm_id];\n      } else if (window.comm_manager || ((window.Jupyter !== undefined) && (Jupyter.notebook.kernel != null))) {\n        var comm_manager = window.comm_manager || Jupyter.notebook.kernel.comm_manager;\n        var comm = comm_manager.new_comm(comm_id, {}, {}, {}, comm_id);\n        if (msg_handler) {\n          comm.on_msg(msg_handler);\n        }\n      } else if ((plot_id in window.PyViz.kernels) && (window.PyViz.kernels[plot_id])) {\n        var comm = window.PyViz.kernels[plot_id].connectToComm(comm_id);\n        comm.open();\n        if (msg_handler) {\n          comm.onMsg = msg_handler;\n        }\n      } else if (typeof google != 'undefined' && google.colab.kernel != null) {\n        var comm_promise = google.colab.kernel.comms.open(comm_id)\n        comm_promise.then((comm) => {\n          window.PyViz.comms[comm_id] = comm;\n          if (msg_handler) {\n            var messages = comm.messages[Symbol.asyncIterator]();\n            function processIteratorResult(result) {\n              var message = result.value;\n              var content = {data: message.data};\n              var metadata = message.metadata || {comm_id};\n              var msg = {content, metadata}\n              msg_handler(msg);\n              return messages.next().then(processIteratorResult);\n            }\n            return messages.next().then(processIteratorResult);\n          }\n        }) \n        var sendClosure = (data, metadata, buffers, disposeOnDone) => {\n          return comm_promise.then((comm) => {\n            comm.send(data, metadata, buffers, disposeOnDone);\n          });\n        };\n        var comm = {\n          send: sendClosure\n        };\n      }\n      window.PyViz.comms[comm_id] = comm;\n      return comm;\n    }\n    window.PyViz.comm_manager = new JupyterCommManager();\n    \n\n\nvar JS_MIME_TYPE = 'application/javascript';\nvar HTML_MIME_TYPE = 'text/html';\nvar EXEC_MIME_TYPE = 'application/vnd.holoviews_exec.v0+json';\nvar CLASS_NAME = 'output';\n\n/**\n * Render data to the DOM node\n */\nfunction render(props, node) {\n  var div = document.createElement(\"div\");\n  var script = document.createElement(\"script\");\n  node.appendChild(div);\n  node.appendChild(script);\n}\n\n/**\n * Handle when a new output is added\n */\nfunction handle_add_output(event, handle) {\n  var output_area = handle.output_area;\n  var output = handle.output;\n  if ((output.data == undefined) || (!output.data.hasOwnProperty(EXEC_MIME_TYPE))) {\n    return\n  }\n  var id = output.metadata[EXEC_MIME_TYPE][\"id\"];\n  var toinsert = output_area.element.find(\".\" + CLASS_NAME.split(' ')[0]);\n  if (id !== undefined) {\n    var nchildren = toinsert.length;\n    var html_node = toinsert[nchildren-1].children[0];\n    html_node.innerHTML = output.data[HTML_MIME_TYPE];\n    var scripts = [];\n    var nodelist = html_node.querySelectorAll(\"script\");\n    for (var i in nodelist) {\n      if (nodelist.hasOwnProperty(i)) {\n        scripts.push(nodelist[i])\n      }\n    }\n\n    scripts.forEach( function (oldScript) {\n      var newScript = document.createElement(\"script\");\n      var attrs = [];\n      var nodemap = oldScript.attributes;\n      for (var j in nodemap) {\n        if (nodemap.hasOwnProperty(j)) {\n          attrs.push(nodemap[j])\n        }\n      }\n      attrs.forEach(function(attr) { newScript.setAttribute(attr.name, attr.value) });\n      newScript.appendChild(document.createTextNode(oldScript.innerHTML));\n      oldScript.parentNode.replaceChild(newScript, oldScript);\n    });\n    if (JS_MIME_TYPE in output.data) {\n      toinsert[nchildren-1].children[1].textContent = output.data[JS_MIME_TYPE];\n    }\n    output_area._hv_plot_id = id;\n    if ((window.Bokeh !== undefined) && (id in Bokeh.index)) {\n      window.PyViz.plot_index[id] = Bokeh.index[id];\n    } else {\n      window.PyViz.plot_index[id] = null;\n    }\n  } else if (output.metadata[EXEC_MIME_TYPE][\"server_id\"] !== undefined) {\n    var bk_div = document.createElement(\"div\");\n    bk_div.innerHTML = output.data[HTML_MIME_TYPE];\n    var script_attrs = bk_div.children[0].attributes;\n    for (var i = 0; i < script_attrs.length; i++) {\n      toinsert[toinsert.length - 1].childNodes[1].setAttribute(script_attrs[i].name, script_attrs[i].value);\n    }\n    // store reference to server id on output_area\n    output_area._bokeh_server_id = output.metadata[EXEC_MIME_TYPE][\"server_id\"];\n  }\n}\n\n/**\n * Handle when an output is cleared or removed\n */\nfunction handle_clear_output(event, handle) {\n  var id = handle.cell.output_area._hv_plot_id;\n  var server_id = handle.cell.output_area._bokeh_server_id;\n  if (((id === undefined) || !(id in PyViz.plot_index)) && (server_id !== undefined)) { return; }\n  var comm = window.PyViz.comm_manager.get_client_comm(\"hv-extension-comm\", \"hv-extension-comm\", function () {});\n  if (server_id !== null) {\n    comm.send({event_type: 'server_delete', 'id': server_id});\n    return;\n  } else if (comm !== null) {\n    comm.send({event_type: 'delete', 'id': id});\n  }\n  delete PyViz.plot_index[id];\n  if ((window.Bokeh !== undefined) & (id in window.Bokeh.index)) {\n    var doc = window.Bokeh.index[id].model.document\n    doc.clear();\n    const i = window.Bokeh.documents.indexOf(doc);\n    if (i > -1) {\n      window.Bokeh.documents.splice(i, 1);\n    }\n  }\n}\n\n/**\n * Handle kernel restart event\n */\nfunction handle_kernel_cleanup(event, handle) {\n  delete PyViz.comms[\"hv-extension-comm\"];\n  window.PyViz.plot_index = {}\n}\n\n/**\n * Handle update_display_data messages\n */\nfunction handle_update_output(event, handle) {\n  handle_clear_output(event, {cell: {output_area: handle.output_area}})\n  handle_add_output(event, handle)\n}\n\nfunction register_renderer(events, OutputArea) {\n  function append_mime(data, metadata, element) {\n    // create a DOM node to render to\n    var toinsert = this.create_output_subarea(\n    metadata,\n    CLASS_NAME,\n    EXEC_MIME_TYPE\n    );\n    this.keyboard_manager.register_events(toinsert);\n    // Render to node\n    var props = {data: data, metadata: metadata[EXEC_MIME_TYPE]};\n    render(props, toinsert[0]);\n    element.append(toinsert);\n    return toinsert\n  }\n\n  events.on('output_added.OutputArea', handle_add_output);\n  events.on('output_updated.OutputArea', handle_update_output);\n  events.on('clear_output.CodeCell', handle_clear_output);\n  events.on('delete.Cell', handle_clear_output);\n  events.on('kernel_ready.Kernel', handle_kernel_cleanup);\n\n  OutputArea.prototype.register_mime_type(EXEC_MIME_TYPE, append_mime, {\n    safe: true,\n    index: 0\n  });\n}\n\nif (window.Jupyter !== undefined) {\n  try {\n    var events = require('base/js/events');\n    var OutputArea = require('notebook/js/outputarea').OutputArea;\n    if (OutputArea.prototype.mime_types().indexOf(EXEC_MIME_TYPE) == -1) {\n      register_renderer(events, OutputArea);\n    }\n  } catch(err) {\n  }\n}\n"
     },
     "metadata": {},
     "output_type": "display_data"
    },
    {
     "data": {
      "text/html": [
       "<style>*[data-root-id],\n",
       "*[data-root-id] > * {\n",
       "  box-sizing: border-box;\n",
       "  font-family: var(--jp-ui-font-family);\n",
       "  font-size: var(--jp-ui-font-size1);\n",
       "  color: var(--vscode-editor-foreground, var(--jp-ui-font-color1));\n",
       "}\n",
       "\n",
       "/* Override VSCode background color */\n",
       ".cell-output-ipywidget-background:has(\n",
       "    > .cell-output-ipywidget-background > .lm-Widget > *[data-root-id]\n",
       "  ),\n",
       ".cell-output-ipywidget-background:has(> .lm-Widget > *[data-root-id]) {\n",
       "  background-color: transparent !important;\n",
       "}\n",
       "</style>"
      ]
     },
     "metadata": {},
     "output_type": "display_data"
    },
    {
     "data": {
      "application/vnd.holoviews_exec.v0+json": "",
      "text/html": [
       "<div id='p1002'>\n",
       "  <div id=\"a93778b3-350b-47da-a6db-e1d4ecf05e33\" data-root-id=\"p1002\" style=\"display: contents;\"></div>\n",
       "</div>\n",
       "<script type=\"application/javascript\">(function(root) {\n",
       "  var docs_json = {\"2fe3765a-ef6c-41ef-9886-39116b9d5842\":{\"version\":\"3.4.0\",\"title\":\"Bokeh Application\",\"roots\":[{\"type\":\"object\",\"name\":\"panel.models.browser.BrowserInfo\",\"id\":\"p1002\"},{\"type\":\"object\",\"name\":\"panel.models.comm_manager.CommManager\",\"id\":\"p1003\",\"attributes\":{\"plot_id\":\"p1002\",\"comm_id\":\"24ab78ee460e4101b261f4380c07d7a6\",\"client_comm_id\":\"46276a7a254746f5a8e77457addec9ff\"}}],\"defs\":[{\"type\":\"model\",\"name\":\"ReactiveHTML1\"},{\"type\":\"model\",\"name\":\"FlexBox1\",\"properties\":[{\"name\":\"align_content\",\"kind\":\"Any\",\"default\":\"flex-start\"},{\"name\":\"align_items\",\"kind\":\"Any\",\"default\":\"flex-start\"},{\"name\":\"flex_direction\",\"kind\":\"Any\",\"default\":\"row\"},{\"name\":\"flex_wrap\",\"kind\":\"Any\",\"default\":\"wrap\"},{\"name\":\"gap\",\"kind\":\"Any\",\"default\":\"\"},{\"name\":\"justify_content\",\"kind\":\"Any\",\"default\":\"flex-start\"}]},{\"type\":\"model\",\"name\":\"FloatPanel1\",\"properties\":[{\"name\":\"config\",\"kind\":\"Any\",\"default\":{\"type\":\"map\"}},{\"name\":\"contained\",\"kind\":\"Any\",\"default\":true},{\"name\":\"position\",\"kind\":\"Any\",\"default\":\"right-top\"},{\"name\":\"offsetx\",\"kind\":\"Any\",\"default\":null},{\"name\":\"offsety\",\"kind\":\"Any\",\"default\":null},{\"name\":\"theme\",\"kind\":\"Any\",\"default\":\"primary\"},{\"name\":\"status\",\"kind\":\"Any\",\"default\":\"normalized\"}]},{\"type\":\"model\",\"name\":\"GridStack1\",\"properties\":[{\"name\":\"mode\",\"kind\":\"Any\",\"default\":\"warn\"},{\"name\":\"ncols\",\"kind\":\"Any\",\"default\":null},{\"name\":\"nrows\",\"kind\":\"Any\",\"default\":null},{\"name\":\"allow_resize\",\"kind\":\"Any\",\"default\":true},{\"name\":\"allow_drag\",\"kind\":\"Any\",\"default\":true},{\"name\":\"state\",\"kind\":\"Any\",\"default\":[]}]},{\"type\":\"model\",\"name\":\"drag1\",\"properties\":[{\"name\":\"slider_width\",\"kind\":\"Any\",\"default\":5},{\"name\":\"slider_color\",\"kind\":\"Any\",\"default\":\"black\"},{\"name\":\"value\",\"kind\":\"Any\",\"default\":50}]},{\"type\":\"model\",\"name\":\"click1\",\"properties\":[{\"name\":\"terminal_output\",\"kind\":\"Any\",\"default\":\"\"},{\"name\":\"debug_name\",\"kind\":\"Any\",\"default\":\"\"},{\"name\":\"clears\",\"kind\":\"Any\",\"default\":0}]},{\"type\":\"model\",\"name\":\"FastWrapper1\",\"properties\":[{\"name\":\"object\",\"kind\":\"Any\",\"default\":null},{\"name\":\"style\",\"kind\":\"Any\",\"default\":null}]},{\"type\":\"model\",\"name\":\"NotificationAreaBase1\",\"properties\":[{\"name\":\"js_events\",\"kind\":\"Any\",\"default\":{\"type\":\"map\"}},{\"name\":\"position\",\"kind\":\"Any\",\"default\":\"bottom-right\"},{\"name\":\"_clear\",\"kind\":\"Any\",\"default\":0}]},{\"type\":\"model\",\"name\":\"NotificationArea1\",\"properties\":[{\"name\":\"js_events\",\"kind\":\"Any\",\"default\":{\"type\":\"map\"}},{\"name\":\"notifications\",\"kind\":\"Any\",\"default\":[]},{\"name\":\"position\",\"kind\":\"Any\",\"default\":\"bottom-right\"},{\"name\":\"_clear\",\"kind\":\"Any\",\"default\":0},{\"name\":\"types\",\"kind\":\"Any\",\"default\":[{\"type\":\"map\",\"entries\":[[\"type\",\"warning\"],[\"background\",\"#ffc107\"],[\"icon\",{\"type\":\"map\",\"entries\":[[\"className\",\"fas fa-exclamation-triangle\"],[\"tagName\",\"i\"],[\"color\",\"white\"]]}]]},{\"type\":\"map\",\"entries\":[[\"type\",\"info\"],[\"background\",\"#007bff\"],[\"icon\",{\"type\":\"map\",\"entries\":[[\"className\",\"fas fa-info-circle\"],[\"tagName\",\"i\"],[\"color\",\"white\"]]}]]}]}]},{\"type\":\"model\",\"name\":\"Notification\",\"properties\":[{\"name\":\"background\",\"kind\":\"Any\",\"default\":null},{\"name\":\"duration\",\"kind\":\"Any\",\"default\":3000},{\"name\":\"icon\",\"kind\":\"Any\",\"default\":null},{\"name\":\"message\",\"kind\":\"Any\",\"default\":\"\"},{\"name\":\"notification_type\",\"kind\":\"Any\",\"default\":null},{\"name\":\"_destroyed\",\"kind\":\"Any\",\"default\":false}]},{\"type\":\"model\",\"name\":\"TemplateActions1\",\"properties\":[{\"name\":\"open_modal\",\"kind\":\"Any\",\"default\":0},{\"name\":\"close_modal\",\"kind\":\"Any\",\"default\":0}]},{\"type\":\"model\",\"name\":\"BootstrapTemplateActions1\",\"properties\":[{\"name\":\"open_modal\",\"kind\":\"Any\",\"default\":0},{\"name\":\"close_modal\",\"kind\":\"Any\",\"default\":0}]},{\"type\":\"model\",\"name\":\"TemplateEditor1\",\"properties\":[{\"name\":\"layout\",\"kind\":\"Any\",\"default\":[]}]},{\"type\":\"model\",\"name\":\"MaterialTemplateActions1\",\"properties\":[{\"name\":\"open_modal\",\"kind\":\"Any\",\"default\":0},{\"name\":\"close_modal\",\"kind\":\"Any\",\"default\":0}]},{\"type\":\"model\",\"name\":\"copy_to_clipboard1\",\"properties\":[{\"name\":\"fill\",\"kind\":\"Any\",\"default\":\"none\"},{\"name\":\"value\",\"kind\":\"Any\",\"default\":null}]}]}};\n",
       "  var render_items = [{\"docid\":\"2fe3765a-ef6c-41ef-9886-39116b9d5842\",\"roots\":{\"p1002\":\"a93778b3-350b-47da-a6db-e1d4ecf05e33\"},\"root_ids\":[\"p1002\"]}];\n",
       "  var docs = Object.values(docs_json)\n",
       "  if (!docs) {\n",
       "    return\n",
       "  }\n",
       "  const py_version = docs[0].version.replace('rc', '-rc.').replace('.dev', '-dev.')\n",
       "  function embed_document(root) {\n",
       "    var Bokeh = get_bokeh(root)\n",
       "    Bokeh.embed.embed_items_notebook(docs_json, render_items);\n",
       "    for (const render_item of render_items) {\n",
       "      for (const root_id of render_item.root_ids) {\n",
       "\tconst id_el = document.getElementById(root_id)\n",
       "\tif (id_el.children.length && (id_el.children[0].className === 'bk-root')) {\n",
       "\t  const root_el = id_el.children[0]\n",
       "\t  root_el.id = root_el.id + '-rendered'\n",
       "\t}\n",
       "      }\n",
       "    }\n",
       "  }\n",
       "  function get_bokeh(root) {\n",
       "    if (root.Bokeh === undefined) {\n",
       "      return null\n",
       "    } else if (root.Bokeh.version !== py_version) {\n",
       "      if (root.Bokeh.versions === undefined || !root.Bokeh.versions.has(py_version)) {\n",
       "\treturn null\n",
       "      }\n",
       "      return root.Bokeh.versions.get(py_version);\n",
       "    } else if (root.Bokeh.version === py_version) {\n",
       "      return root.Bokeh\n",
       "    }\n",
       "    return null\n",
       "  }\n",
       "  function is_loaded(root) {\n",
       "    var Bokeh = get_bokeh(root)\n",
       "    return (Bokeh != null && Bokeh.Panel !== undefined)\n",
       "  }\n",
       "  if (is_loaded(root)) {\n",
       "    embed_document(root);\n",
       "  } else {\n",
       "    var attempts = 0;\n",
       "    var timer = setInterval(function(root) {\n",
       "      if (is_loaded(root)) {\n",
       "        clearInterval(timer);\n",
       "        embed_document(root);\n",
       "      } else if (document.readyState == \"complete\") {\n",
       "        attempts++;\n",
       "        if (attempts > 200) {\n",
       "          clearInterval(timer);\n",
       "\t  var Bokeh = get_bokeh(root)\n",
       "\t  if (Bokeh == null || Bokeh.Panel == null) {\n",
       "            console.warn(\"Panel: ERROR: Unable to run Panel code because Bokeh or Panel library is missing\");\n",
       "\t  } else {\n",
       "\t    console.warn(\"Panel: WARNING: Attempting to render but not all required libraries could be resolved.\")\n",
       "\t    embed_document(root)\n",
       "\t  }\n",
       "        }\n",
       "      }\n",
       "    }, 25, root)\n",
       "  }\n",
       "})(window);</script>"
      ]
     },
     "metadata": {
      "application/vnd.holoviews_exec.v0+json": {
       "id": "p1002"
      }
     },
     "output_type": "display_data"
    }
   ],
   "source": [
    "# imports we need + utils\n",
    "import pandas as pd\n",
    "import numpy as np\n",
    "import seaborn as sns\n",
    "from scipy import stats\n",
    "import matplotlib.pyplot as plt\n",
    "import hvplot.pandas\n",
    "from datetime import datetime\n",
    "from sklearn.preprocessing import LabelEncoder\n",
    "from sklearn.ensemble import RandomForestClassifier\n",
    "from sklearn.model_selection import train_test_split\n",
    "from datetime import datetime\n",
    "from xgboost import XGBClassifier\n",
    "import tensorflow as tf\n",
    "from tensorflow.keras.models import Sequential, Model\n",
    "from tensorflow.keras.layers import Dense, Dropout, BatchNormalization\n",
    "from tensorflow.keras.optimizers import Adam\n",
    "from tensorflow.keras.metrics import AUC\n",
    "from sklearn.model_selection import train_test_split\n",
    "from collections import Counter\n",
    "from imblearn.over_sampling import SMOTE, ADASYN\n",
    "\n",
    "from sklearn.model_selection import train_test_split, RandomizedSearchCV\n",
    "from sklearn.preprocessing import MinMaxScaler, LabelEncoder\n",
    "\n",
    "from sklearn.metrics import (\n",
    "    accuracy_score, confusion_matrix, classification_report,\n",
    "    roc_auc_score, roc_curve, auc,\n",
    "    # plot_confusion_matrix, plot_roc_curve\n",
    ")\n",
    "from sklearn.metrics import ConfusionMatrixDisplay, RocCurveDisplay\n",
    "# import imblearn as iblearn\n",
    "# import sklearn as skl\n",
    "# print(iblearn.__version__)\n",
    "# print(skl.__version__)\n",
    "\n",
    "from sklearn.ensemble import RandomForestClassifier, RandomForestRegressor\n",
    "\n",
    "\n",
    "pd.set_option('display.float', '{:.2f}'.format)\n",
    "pd.set_option('display.max_columns', 50)\n",
    "pd.set_option('display.max_rows', 50)\n",
    "\n",
    "bold_start = \"\\033[1m\"\n",
    "bold_end = \"\\033[0m\"\n",
    "\n",
    "# import sklearn as sk\n",
    "# print(sk.__version__)\n",
    "# import imblearn as ib\n",
    "# print(ib.__version__)"
   ]
  },
  {
   "cell_type": "code",
   "execution_count": 2,
   "id": "initial_id",
   "metadata": {
    "ExecuteTime": {
     "end_time": "2024-05-22T19:06:28.438546Z",
     "start_time": "2024-05-22T19:06:27.339723Z"
    }
   },
   "outputs": [],
   "source": [
    "# Exploratory Data Analysis code cell\n",
    "data = pd.read_csv(\"resources/lending_club_loan_two.csv\")\n",
    "\n",
    "\n",
    "def plot_3_row_histogram(df):\n",
    "    numerics_df = df.select_dtypes(include=['number'])\n",
    "    print(\"Number of numeric cols: \", len(numerics_df.columns), \" of \", len(df.columns))\n",
    "    n_rows = len(numerics_df.columns) // 3\n",
    "    n_rows += len(numerics_df.columns) % 3\n",
    "\n",
    "    # Create a figure and axes with matplotlib's subplots()\n",
    "    fig, axs = plt.subplots(n_rows, 3, figsize=(15, n_rows * 4))\n",
    "\n",
    "    for idx, col in enumerate(numerics_df.columns):\n",
    "        i = idx // 3\n",
    "        j = idx % 3\n",
    "\n",
    "        sns.histplot(numerics_df[col], ax=axs[i][j], kde=True)\n",
    "        axs[i][j].set_title(f\"Distribution of {col}\")\n",
    "\n",
    "    # Remove empty subplots\n",
    "    if len(numerics_df.columns) % 3:\n",
    "        for j in range(len(numerics_df.columns) % 3, 3):\n",
    "            fig.delaxes(axs[i][j])\n",
    "\n",
    "    plt.tight_layout()\n",
    "    plt.show()\n",
    "\n",
    "\n",
    "def plot_label_distribution(df, label):\n",
    "    values = df[label].value_counts()\n",
    "    values.plot(kind='bar', figsize=(5, 3))\n",
    "    plt.title('Label values distribution')\n",
    "    plt.show()\n",
    "\n",
    "\n",
    "def plot_correlation_matrix(df):\n",
    "    numeric_df = df.select_dtypes(include=['number'])\n",
    "    plt.figure(figsize=(10, 8))\n",
    "    sns.heatmap(numeric_df.corr(), annot=True, cmap='coolwarm')\n",
    "    plt.title('Correlation Matrix')\n",
    "    plt.show()\n",
    "\n",
    "\n",
    "def percentage_of_missing_values(df):\n",
    "    missing_columns = df.columns[data.isna().any()].to_list()\n",
    "    missing_values = df[missing_columns].isna().mean() * 100\n",
    "    missing_values = missing_values.apply(lambda x: f'{x: .2f}%')\n",
    "\n",
    "    # missing_df = pd.DataFrame({'Column': missing_columns, 'Missing %': missing_values})\n",
    "    missing_df = pd.DataFrame({'Missing %': missing_values})\n",
    "    print(\"Percentage of missing values\")\n",
    "    display(missing_df)\n",
    "\n",
    "\n",
    "def detect_outliers_zscore(df, column, threshold=3):\n",
    "    z_scores = np.abs((df[column] - df[column].mean()) / df[column].std())\n",
    "    outliers = df[z_scores > threshold].index\n",
    "    return outliers\n",
    "\n",
    "\n",
    "def show_outliers(df):\n",
    "    outlier_data = []\n",
    "    numerics_df = df.select_dtypes(include=['number'])\n",
    "    for col in numerics_df.columns:\n",
    "        ol = detect_outliers_zscore(numerics_df, col)\n",
    "        outlier_data.append({'Column': col, 'Outlier Count': len(ol)})\n",
    "    outliers_df = pd.DataFrame(outlier_data)\n",
    "    print(\"Outliers found in each feature\")\n",
    "    display(outliers_df.sort_values(by='Outlier Count', ascending=False))\n",
    "\n",
    "\n",
    "def show_unique_values_categorical_features(df):\n",
    "    categorical_cols = data.select_dtypes(include=['object'])\n",
    "    unique_categories = []\n",
    "    for col in categorical_cols.columns:\n",
    "        unique_categories.append({'Column': col, 'Unique Count': data[col].nunique()})\n",
    "    unique_categories_df = pd.DataFrame(unique_categories)\n",
    "    print(\"Count of unique values in categorical features\")\n",
    "    display(unique_categories_df.sort_values(by='Unique Count', ascending=False))\n",
    "\n",
    "\n",
    "def feature_importance_random_forest(x, y):\n",
    "    # Train a Random Forest model\n",
    "    rf = RandomForestClassifier()\n",
    "    rf.fit(x, y)\n",
    "\n",
    "    # Get feature importance\n",
    "    importance = rf.feature_importances_\n",
    "\n",
    "    # Create a DataFrame to visualize importance\n",
    "    feature_importance = pd.DataFrame({'Feature': x.columns, 'Importance': importance})\n",
    "    feature_importance = feature_importance.sort_values('Importance', ascending=False)\n",
    "\n",
    "    print(feature_importance)\n",
    "\n",
    "\n",
    "def pub_rec(number):\n",
    "    if number == 0.0:\n",
    "        return 0\n",
    "    else:\n",
    "        return 1\n",
    "\n",
    "\n",
    "def mort_acc(number):\n",
    "    if number == 0.0:\n",
    "        return 0\n",
    "    elif number >= 1.0:\n",
    "        return 1\n",
    "    else:\n",
    "        return number\n",
    "\n",
    "\n",
    "def pub_rec_bankruptcies(number):\n",
    "    if number == 0.0:\n",
    "        return 0\n",
    "    elif number >= 1.0:\n",
    "        return 1\n",
    "    else:\n",
    "        return number\n",
    "\n",
    "\n",
    "def eda():\n",
    "    #label distribution\n",
    "    plot_label_distribution(data, 'loan_status')\n",
    "\n",
    "    # feature distribution\n",
    "    plot_3_row_histogram(data)\n",
    "\n",
    "    #correlation matrix\n",
    "    plot_correlation_matrix(data)\n",
    "\n",
    "    # missing values\n",
    "    percentage_of_missing_values(data)\n",
    "\n",
    "    # outliers\n",
    "    show_outliers(data)\n",
    "\n",
    "    # show unique values for each categorical feature\n",
    "    show_unique_values_categorical_features(data)\n"
   ]
  },
  {
   "cell_type": "markdown",
   "id": "1ead4a08-8360-4854-b21b-39644f7b377e",
   "metadata": {},
   "source": [
    "# Exploratory Data Exploration"
   ]
  },
  {
   "cell_type": "code",
   "execution_count": 3,
   "id": "b53d3f3171c19c72",
   "metadata": {
    "ExecuteTime": {
     "end_time": "2024-05-22T19:06:54.329501Z",
     "start_time": "2024-05-22T19:06:28.456346Z"
    },
    "collapsed": false,
    "jupyter": {
     "outputs_hidden": false
    }
   },
   "outputs": [
    {
     "data": {
      "image/png": "[encoded data removed]",
      "text/plain": [
       "<Figure size 500x300 with 1 Axes>"
      ]
     },
     "metadata": {},
     "output_type": "display_data"
    },
    {
     "name": "stdout",
     "output_type": "stream",
     "text": [
      "Number of numeric cols:  12  of  27\n"
     ]
    },
    {
     "name": "stderr",
     "output_type": "stream",
     "text": [
      "C:\\Users\\outse\\anaconda3\\Lib\\site-packages\\seaborn\\_oldcore.py:1119: FutureWarning: use_inf_as_na option is deprecated and will be removed in a future version. Convert inf values to NaN before operating instead.\n",
      "  with pd.option_context('mode.use_inf_as_na', True):\n",
      "C:\\Users\\outse\\anaconda3\\Lib\\site-packages\\seaborn\\_oldcore.py:1119: FutureWarning: use_inf_as_na option is deprecated and will be removed in a future version. Convert inf values to NaN before operating instead.\n",
      "  with pd.option_context('mode.use_inf_as_na', True):\n",
      "C:\\Users\\outse\\anaconda3\\Lib\\site-packages\\seaborn\\_oldcore.py:1119: FutureWarning: use_inf_as_na option is deprecated and will be removed in a future version. Convert inf values to NaN before operating instead.\n",
      "  with pd.option_context('mode.use_inf_as_na', True):\n",
      "C:\\Users\\outse\\anaconda3\\Lib\\site-packages\\seaborn\\_oldcore.py:1119: FutureWarning: use_inf_as_na option is deprecated and will be removed in a future version. Convert inf values to NaN before operating instead.\n",
      "  with pd.option_context('mode.use_inf_as_na', True):\n",
      "C:\\Users\\outse\\anaconda3\\Lib\\site-packages\\seaborn\\_oldcore.py:1119: FutureWarning: use_inf_as_na option is deprecated and will be removed in a future version. Convert inf values to NaN before operating instead.\n",
      "  with pd.option_context('mode.use_inf_as_na', True):\n",
      "C:\\Users\\outse\\anaconda3\\Lib\\site-packages\\seaborn\\_oldcore.py:1119: FutureWarning: use_inf_as_na option is deprecated and will be removed in a future version. Convert inf values to NaN before operating instead.\n",
      "  with pd.option_context('mode.use_inf_as_na', True):\n",
      "C:\\Users\\outse\\anaconda3\\Lib\\site-packages\\seaborn\\_oldcore.py:1119: FutureWarning: use_inf_as_na option is deprecated and will be removed in a future version. Convert inf values to NaN before operating instead.\n",
      "  with pd.option_context('mode.use_inf_as_na', True):\n",
      "C:\\Users\\outse\\anaconda3\\Lib\\site-packages\\seaborn\\_oldcore.py:1119: FutureWarning: use_inf_as_na option is deprecated and will be removed in a future version. Convert inf values to NaN before operating instead.\n",
      "  with pd.option_context('mode.use_inf_as_na', True):\n",
      "C:\\Users\\outse\\anaconda3\\Lib\\site-packages\\seaborn\\_oldcore.py:1119: FutureWarning: use_inf_as_na option is deprecated and will be removed in a future version. Convert inf values to NaN before operating instead.\n",
      "  with pd.option_context('mode.use_inf_as_na', True):\n",
      "C:\\Users\\outse\\anaconda3\\Lib\\site-packages\\seaborn\\_oldcore.py:1119: FutureWarning: use_inf_as_na option is deprecated and will be removed in a future version. Convert inf values to NaN before operating instead.\n",
      "  with pd.option_context('mode.use_inf_as_na', True):\n",
      "C:\\Users\\outse\\anaconda3\\Lib\\site-packages\\seaborn\\_oldcore.py:1119: FutureWarning: use_inf_as_na option is deprecated and will be removed in a future version. Convert inf values to NaN before operating instead.\n",
      "  with pd.option_context('mode.use_inf_as_na', True):\n",
      "C:\\Users\\outse\\anaconda3\\Lib\\site-packages\\seaborn\\_oldcore.py:1119: FutureWarning: use_inf_as_na option is deprecated and will be removed in a future version. Convert inf values to NaN before operating instead.\n",
      "  with pd.option_context('mode.use_inf_as_na', True):\n"
     ]
    },
    {
     "data": {
      "image/png": "[encoded data removed]",
      "text/plain": [
       "<Figure size 1500x1600 with 12 Axes>"
      ]
     },
     "metadata": {},
     "output_type": "display_data"
    },
    {
     "data": {
      "image/png": "[encoded data removed]",
      "text/plain": [
       "<Figure size 1000x800 with 2 Axes>"
      ]
     },
     "metadata": {},
     "output_type": "display_data"
    },
    {
     "name": "stdout",
     "output_type": "stream",
     "text": [
      "Percentage of missing values\n"
     ]
    },
    {
     "data": {
      "text/html": [
       "<div>\n",
       "<style scoped>\n",
       "    .dataframe tbody tr th:only-of-type {\n",
       "        vertical-align: middle;\n",
       "    }\n",
       "\n",
       "    .dataframe tbody tr th {\n",
       "        vertical-align: top;\n",
       "    }\n",
       "\n",
       "    .dataframe thead th {\n",
       "        text-align: right;\n",
       "    }\n",
       "</style>\n",
       "<table border=\"1\" class=\"dataframe\">\n",
       "  <thead>\n",
       "    <tr style=\"text-align: right;\">\n",
       "      <th></th>\n",
       "      <th>Missing %</th>\n",
       "    </tr>\n",
       "  </thead>\n",
       "  <tbody>\n",
       "    <tr>\n",
       "      <th>emp_title</th>\n",
       "      <td>5.79%</td>\n",
       "    </tr>\n",
       "    <tr>\n",
       "      <th>emp_length</th>\n",
       "      <td>4.62%</td>\n",
       "    </tr>\n",
       "    <tr>\n",
       "      <th>title</th>\n",
       "      <td>0.44%</td>\n",
       "    </tr>\n",
       "    <tr>\n",
       "      <th>revol_util</th>\n",
       "      <td>0.07%</td>\n",
       "    </tr>\n",
       "    <tr>\n",
       "      <th>mort_acc</th>\n",
       "      <td>9.54%</td>\n",
       "    </tr>\n",
       "    <tr>\n",
       "      <th>pub_rec_bankruptcies</th>\n",
       "      <td>0.14%</td>\n",
       "    </tr>\n",
       "  </tbody>\n",
       "</table>\n",
       "</div>"
      ],
      "text/plain": [
       "                     Missing %\n",
       "emp_title                5.79%\n",
       "emp_length               4.62%\n",
       "title                    0.44%\n",
       "revol_util               0.07%\n",
       "mort_acc                 9.54%\n",
       "pub_rec_bankruptcies     0.14%"
      ]
     },
     "metadata": {},
     "output_type": "display_data"
    },
    {
     "name": "stdout",
     "output_type": "stream",
     "text": [
      "Outliers found in each feature\n"
     ]
    },
    {
     "data": {
      "text/html": [
       "<div>\n",
       "<style scoped>\n",
       "    .dataframe tbody tr th:only-of-type {\n",
       "        vertical-align: middle;\n",
       "    }\n",
       "\n",
       "    .dataframe tbody tr th {\n",
       "        vertical-align: top;\n",
       "    }\n",
       "\n",
       "    .dataframe thead th {\n",
       "        text-align: right;\n",
       "    }\n",
       "</style>\n",
       "<table border=\"1\" class=\"dataframe\">\n",
       "  <thead>\n",
       "    <tr style=\"text-align: right;\">\n",
       "      <th></th>\n",
       "      <th>Column</th>\n",
       "      <th>Outlier Count</th>\n",
       "    </tr>\n",
       "  </thead>\n",
       "  <tbody>\n",
       "    <tr>\n",
       "      <th>6</th>\n",
       "      <td>pub_rec</td>\n",
       "      <td>8019</td>\n",
       "    </tr>\n",
       "    <tr>\n",
       "      <th>2</th>\n",
       "      <td>installment</td>\n",
       "      <td>5050</td>\n",
       "    </tr>\n",
       "    <tr>\n",
       "      <th>5</th>\n",
       "      <td>open_acc</td>\n",
       "      <td>4879</td>\n",
       "    </tr>\n",
       "    <tr>\n",
       "      <th>7</th>\n",
       "      <td>revol_bal</td>\n",
       "      <td>4790</td>\n",
       "    </tr>\n",
       "    <tr>\n",
       "      <th>10</th>\n",
       "      <td>mort_acc</td>\n",
       "      <td>3722</td>\n",
       "    </tr>\n",
       "    <tr>\n",
       "      <th>9</th>\n",
       "      <td>total_acc</td>\n",
       "      <td>3401</td>\n",
       "    </tr>\n",
       "    <tr>\n",
       "      <th>3</th>\n",
       "      <td>annual_inc</td>\n",
       "      <td>3197</td>\n",
       "    </tr>\n",
       "    <tr>\n",
       "      <th>11</th>\n",
       "      <td>pub_rec_bankruptcies</td>\n",
       "      <td>2325</td>\n",
       "    </tr>\n",
       "    <tr>\n",
       "      <th>1</th>\n",
       "      <td>int_rate</td>\n",
       "      <td>756</td>\n",
       "    </tr>\n",
       "    <tr>\n",
       "      <th>0</th>\n",
       "      <td>loan_amnt</td>\n",
       "      <td>185</td>\n",
       "    </tr>\n",
       "    <tr>\n",
       "      <th>8</th>\n",
       "      <td>revol_util</td>\n",
       "      <td>16</td>\n",
       "    </tr>\n",
       "    <tr>\n",
       "      <th>4</th>\n",
       "      <td>dti</td>\n",
       "      <td>12</td>\n",
       "    </tr>\n",
       "  </tbody>\n",
       "</table>\n",
       "</div>"
      ],
      "text/plain": [
       "                  Column  Outlier Count\n",
       "6                pub_rec           8019\n",
       "2            installment           5050\n",
       "5               open_acc           4879\n",
       "7              revol_bal           4790\n",
       "10              mort_acc           3722\n",
       "9              total_acc           3401\n",
       "3             annual_inc           3197\n",
       "11  pub_rec_bankruptcies           2325\n",
       "1               int_rate            756\n",
       "0              loan_amnt            185\n",
       "8             revol_util             16\n",
       "4                    dti             12"
      ]
     },
     "metadata": {},
     "output_type": "display_data"
    },
    {
     "name": "stdout",
     "output_type": "stream",
     "text": [
      "Count of unique values in categorical features\n"
     ]
    },
    {
     "data": {
      "text/html": [
       "<div>\n",
       "<style scoped>\n",
       "    .dataframe tbody tr th:only-of-type {\n",
       "        vertical-align: middle;\n",
       "    }\n",
       "\n",
       "    .dataframe tbody tr th {\n",
       "        vertical-align: top;\n",
       "    }\n",
       "\n",
       "    .dataframe thead th {\n",
       "        text-align: right;\n",
       "    }\n",
       "</style>\n",
       "<table border=\"1\" class=\"dataframe\">\n",
       "  <thead>\n",
       "    <tr style=\"text-align: right;\">\n",
       "      <th></th>\n",
       "      <th>Column</th>\n",
       "      <th>Unique Count</th>\n",
       "    </tr>\n",
       "  </thead>\n",
       "  <tbody>\n",
       "    <tr>\n",
       "      <th>14</th>\n",
       "      <td>address</td>\n",
       "      <td>393700</td>\n",
       "    </tr>\n",
       "    <tr>\n",
       "      <th>3</th>\n",
       "      <td>emp_title</td>\n",
       "      <td>173105</td>\n",
       "    </tr>\n",
       "    <tr>\n",
       "      <th>10</th>\n",
       "      <td>title</td>\n",
       "      <td>48816</td>\n",
       "    </tr>\n",
       "    <tr>\n",
       "      <th>11</th>\n",
       "      <td>earliest_cr_line</td>\n",
       "      <td>684</td>\n",
       "    </tr>\n",
       "    <tr>\n",
       "      <th>7</th>\n",
       "      <td>issue_d</td>\n",
       "      <td>115</td>\n",
       "    </tr>\n",
       "    <tr>\n",
       "      <th>2</th>\n",
       "      <td>sub_grade</td>\n",
       "      <td>35</td>\n",
       "    </tr>\n",
       "    <tr>\n",
       "      <th>9</th>\n",
       "      <td>purpose</td>\n",
       "      <td>14</td>\n",
       "    </tr>\n",
       "    <tr>\n",
       "      <th>4</th>\n",
       "      <td>emp_length</td>\n",
       "      <td>11</td>\n",
       "    </tr>\n",
       "    <tr>\n",
       "      <th>1</th>\n",
       "      <td>grade</td>\n",
       "      <td>7</td>\n",
       "    </tr>\n",
       "    <tr>\n",
       "      <th>5</th>\n",
       "      <td>home_ownership</td>\n",
       "      <td>6</td>\n",
       "    </tr>\n",
       "    <tr>\n",
       "      <th>6</th>\n",
       "      <td>verification_status</td>\n",
       "      <td>3</td>\n",
       "    </tr>\n",
       "    <tr>\n",
       "      <th>13</th>\n",
       "      <td>application_type</td>\n",
       "      <td>3</td>\n",
       "    </tr>\n",
       "    <tr>\n",
       "      <th>0</th>\n",
       "      <td>term</td>\n",
       "      <td>2</td>\n",
       "    </tr>\n",
       "    <tr>\n",
       "      <th>8</th>\n",
       "      <td>loan_status</td>\n",
       "      <td>2</td>\n",
       "    </tr>\n",
       "    <tr>\n",
       "      <th>12</th>\n",
       "      <td>initial_list_status</td>\n",
       "      <td>2</td>\n",
       "    </tr>\n",
       "  </tbody>\n",
       "</table>\n",
       "</div>"
      ],
      "text/plain": [
       "                 Column  Unique Count\n",
       "14              address        393700\n",
       "3             emp_title        173105\n",
       "10                title         48816\n",
       "11     earliest_cr_line           684\n",
       "7               issue_d           115\n",
       "2             sub_grade            35\n",
       "9               purpose            14\n",
       "4            emp_length            11\n",
       "1                 grade             7\n",
       "5        home_ownership             6\n",
       "6   verification_status             3\n",
       "13     application_type             3\n",
       "0                  term             2\n",
       "8           loan_status             2\n",
       "12  initial_list_status             2"
      ]
     },
     "metadata": {},
     "output_type": "display_data"
    }
   ],
   "source": [
    "# call exploratory data analysis methods\n",
    "eda()"
   ]
  },
  {
   "cell_type": "markdown",
   "id": "148b0a86-d311-4f1a-bfa5-5313a8b8ecdc",
   "metadata": {},
   "source": [
    "## EDA Observations\n",
    "\n",
    "## Distributions:\n",
    "#### Right Skewed: \n",
    "* *loan_amnt*, *int_rate*, *installment*, *annual_inc*, *dti*, *open_acc*, *pub_rec*, *revol_bal*, *total_acc* \n",
    "* These variables have a long tail on the right, indicating a concentration of values at the lower end with a few very high values.\n",
    "\n",
    "#### Approximately Normal: \n",
    "* *revol_util*\n",
    "* This distribution resembles a bell curve, suggesting a symmetric distribution of values around the mean.\n",
    "\n",
    "#### Highly Imbalanced: \n",
    "* `mort_acc, pub_rec_bankruptcies` \n",
    "* These variables have a very uneven distribution, with a large majority of values concentrated in a single category.\n",
    "\n",
    "### Preprocessing Strategies:\n",
    "1. Addressing the Imbalance in label instances:\n",
    "    - Oversampling using SMOTE and ADASYN: From the bar graph above relating to Fully Paid vs Charged-Off, we can see a significant imbalance in label instance that need to be addressed.\n",
    "    - We're using both Synthetic Minority Sampling and Adaptive Synthetic Sampling to experiment and cross-validate which is better since SMOTE might not perform well with complex distributions\n",
    "2. Handling Skewness:\n",
    "    - We chose to cap the extreme values at a certain percentile to reduce the impact of these outliers without removing them entirely. \n",
    "3. Normalization/Standardization:\n",
    "    - We shall standardize `revol_util` since it's close to normal distribution. This will help improve model performance.\n",
    "    - All other variables to are going to be normalized using min-max scaling to rescale them to a range between 0 and 1. This will prevent features with larger variations from biasing the models we train later on.\n",
    "4. Because `pub_rec, mort_acc, pub_rec_bankruptcies` are heavily right-skewed and have most of their values as 0, we're choosing to simplify them into binary e.g. 0 - no mort_acc, 1 - has mort_acc  \n",
    "5. Address feature needs to be augmented/engineered into zip_code because there are too many variations for it to be encoded effeciently."
   ]
  },
  {
   "cell_type": "markdown",
   "id": "6e16a1c9-b88c-470c-80f2-ddd2f4d7b9de",
   "metadata": {},
   "source": [
    "# Data Preprocessing\n",
    "\n",
    "The goal here is to do the following:\n",
    "\n",
    "* Impute missing values\n",
    "* Remove repeating and irrelevant features\n",
    "* Encode categorical features into numerical format\n",
    "* Oversample the minority class to increase its number of instances\n",
    "* Change some features into variations of themselves (feature engineer)"
   ]
  },
  {
   "cell_type": "code",
   "execution_count": 4,
   "id": "b641959f-a11e-4e36-8bbe-398df8b9c0f8",
   "metadata": {
    "ExecuteTime": {
     "end_time": "2024-05-22T19:06:54.855812Z",
     "start_time": "2024-05-22T19:06:54.330606Z"
    }
   },
   "outputs": [
    {
     "name": "stdout",
     "output_type": "stream",
     "text": [
      "The shape of the dataset (instances, features): (396030, 45)\n"
     ]
    }
   ],
   "source": [
    "# Convert features to simple binary \n",
    "data['pub_rec'] = data.pub_rec.apply(pub_rec)\n",
    "data['mort_acc'] = data.mort_acc.apply(mort_acc)\n",
    "data['pub_rec_bankruptcies'] = data.pub_rec_bankruptcies.apply(pub_rec_bankruptcies)\n",
    "data['loan_status'] = data.loan_status.map({'Fully Paid': 1, 'Charged Off': 0})\n",
    "\n",
    "# one-hot encode categories we found as categorical\n",
    "one_hot_encode_cols = ['verification_status', 'purpose', 'initial_list_status',\n",
    "                       'application_type', 'home_ownership']\n",
    "data = pd.get_dummies(data, columns=one_hot_encode_cols, drop_first=True)\n",
    "\n",
    "# the shape of the data\n",
    "print(f\"The shape of the dataset (instances, features): {data.shape}\")"
   ]
  },
  {
   "cell_type": "markdown",
   "id": "1335ac60-80dd-4340-84fc-ac962d7bdc75",
   "metadata": {},
   "source": [
    "### 2.2 Converting categorical string features into numerical formats"
   ]
  },
  {
   "cell_type": "code",
   "execution_count": 5,
   "id": "c62ecb18-56f9-47da-9c4d-0390c2216dcf",
   "metadata": {
    "ExecuteTime": {
     "end_time": "2024-05-22T19:06:54.860391Z",
     "start_time": "2024-05-22T19:06:54.851943Z"
    }
   },
   "outputs": [
    {
     "data": {
      "text/plain": [
       "array([' 36 months', ' 60 months'], dtype=object)"
      ]
     },
     "execution_count": 5,
     "metadata": {},
     "output_type": "execute_result"
    }
   ],
   "source": [
    "data.term.unique()"
   ]
  },
  {
   "cell_type": "code",
   "execution_count": 6,
   "id": "0cc30b3d-e077-42e3-b4dc-308a0a5f052f",
   "metadata": {
    "ExecuteTime": {
     "end_time": "2024-05-22T19:06:54.892739Z",
     "start_time": "2024-05-22T19:06:54.871804Z"
    }
   },
   "outputs": [],
   "source": [
    "term_values = {' 36 months': 36, ' 60 months': 60}\n",
    "data['term'] = data.term.map(term_values)"
   ]
  },
  {
   "cell_type": "code",
   "execution_count": 7,
   "id": "8a988aa2-1903-4df7-aa80-81d54f0d5789",
   "metadata": {
    "ExecuteTime": {
     "end_time": "2024-05-22T19:06:54.894346Z",
     "start_time": "2024-05-22T19:06:54.875911Z"
    }
   },
   "outputs": [
    {
     "data": {
      "text/plain": [
       "array([36, 60], dtype=int64)"
      ]
     },
     "execution_count": 7,
     "metadata": {},
     "output_type": "execute_result"
    }
   ],
   "source": [
    "data.term.unique()"
   ]
  },
  {
   "cell_type": "code",
   "execution_count": 8,
   "id": "a6fd4bc2-0bb8-483c-890f-1daf7e28aad4",
   "metadata": {
    "ExecuteTime": {
     "end_time": "2024-05-22T19:06:54.924041Z",
     "start_time": "2024-05-22T19:06:54.881509Z"
    }
   },
   "outputs": [],
   "source": [
    "data.drop('grade', axis=1, inplace=True)"
   ]
  },
  {
   "cell_type": "markdown",
   "id": "ae1e645a-fec0-427d-bd2a-2315d657eee1",
   "metadata": {},
   "source": [
    "address\n",
    "We are going to feature engineer a zip code column from the address in the data set. Create a column called 'zip_code' that extracts the zip code from the address column."
   ]
  },
  {
   "cell_type": "code",
   "execution_count": 9,
   "id": "3669d70c-129a-4b3b-8bc7-1bdb0a743173",
   "metadata": {
    "ExecuteTime": {
     "end_time": "2024-05-22T19:06:54.925198Z",
     "start_time": "2024-05-22T19:06:54.918756Z"
    }
   },
   "outputs": [
    {
     "data": {
      "text/plain": [
       "0       0174 Michelle Gateway\\r\\nMendozaberg, OK 22690\n",
       "1    1076 Carney Fort Apt. 347\\r\\nLoganmouth, SD 05113\n",
       "2    87025 Mark Dale Apt. 269\\r\\nNew Sabrina, WV 05113\n",
       "3              823 Reid Ford\\r\\nDelacruzside, MA 00813\n",
       "4               679 Luna Roads\\r\\nGreggshire, VA 11650\n",
       "Name: address, dtype: object"
      ]
     },
     "execution_count": 9,
     "metadata": {},
     "output_type": "execute_result"
    }
   ],
   "source": [
    "data.address.head()"
   ]
  },
  {
   "cell_type": "code",
   "execution_count": 10,
   "id": "c3f300d9-fce6-48cc-af94-6edb2463f28a",
   "metadata": {
    "ExecuteTime": {
     "end_time": "2024-05-22T19:06:54.986330Z",
     "start_time": "2024-05-22T19:06:54.943278Z"
    }
   },
   "outputs": [],
   "source": [
    "data['zip_code'] = data.address.apply(lambda x: x[-5:])"
   ]
  },
  {
   "cell_type": "code",
   "execution_count": 11,
   "id": "017a24e7-a083-4a7d-b491-d07015f271b3",
   "metadata": {
    "ExecuteTime": {
     "end_time": "2024-05-22T19:06:54.999329Z",
     "start_time": "2024-05-22T19:06:54.996264Z"
    }
   },
   "outputs": [
    {
     "data": {
      "text/plain": [
       "zip_code\n",
       "70466    56985\n",
       "30723    56546\n",
       "22690    56527\n",
       "48052    55917\n",
       "00813    45824\n",
       "29597    45471\n",
       "05113    45402\n",
       "11650    11226\n",
       "93700    11151\n",
       "86630    10981\n",
       "Name: count, dtype: int64"
      ]
     },
     "execution_count": 11,
     "metadata": {},
     "output_type": "execute_result"
    }
   ],
   "source": [
    "data.zip_code.value_counts()"
   ]
  },
  {
   "cell_type": "code",
   "execution_count": 12,
   "id": "40897860-a44f-4eb7-8819-7f6811eb9989",
   "metadata": {
    "ExecuteTime": {
     "end_time": "2024-05-22T19:06:55.131904Z",
     "start_time": "2024-05-22T19:06:55.034449Z"
    }
   },
   "outputs": [],
   "source": [
    "# data = pd.get_dummies(data, columns=['zip_code'], drop_first=True)\n",
    "\n",
    "# Initialize LabelEncoder\n",
    "label_encoder = LabelEncoder()\n",
    "\n",
    "# Fit and transform the zip_code column\n",
    "data['zip_code_encoded'] = label_encoder.fit_transform(data['zip_code'])\n",
    "\n",
    "data.drop('zip_code', axis=1, inplace=True)\n",
    "data.drop('address', axis=1, inplace=True)\n",
    "\n",
    "sub_grade_mapping = {\n",
    "    'A1': 35, 'A2': 34, 'A3': 33, 'A4': 32, 'A5': 31,\n",
    "    'B1': 30, 'B2': 29, 'B3': 28, 'B4': 27, 'B5': 26,\n",
    "    'C1': 25, 'C2': 24, 'C3': 23, 'C4': 22, 'C5': 21,\n",
    "    'D1': 20, 'D2': 19, 'D3': 18, 'D4': 17, 'D5': 16,\n",
    "    'E1': 15, 'E2': 14, 'E3': 13, 'E4': 12, 'E5': 11,\n",
    "    'F1': 10, 'F2': 9, 'F3': 8, 'F4': 7, 'F5': 6,\n",
    "    'G1': 5, 'G2': 4, 'G3': 3, 'G4': 2, 'G5': 1\n",
    "}\n",
    "data['sub_grade_encoded'] = data['sub_grade'].map(sub_grade_mapping)\n",
    "data.drop('sub_grade', axis=1, inplace=True)\n"
   ]
  },
  {
   "cell_type": "markdown",
   "id": "168ef7fc-e2b6-43a9-bdae-e6b7f25238ee",
   "metadata": {},
   "source": [
    "Removing `issue_d` feature\n",
    "This would be data leakage because we would not know the loan issue date beforehand when using our model/in our usecase. Therefore choosing to drop this feature."
   ]
  },
  {
   "cell_type": "code",
   "execution_count": 13,
   "id": "f2f4cecd-fb90-448d-8523-ce796b922fdc",
   "metadata": {
    "ExecuteTime": {
     "end_time": "2024-05-22T19:06:55.166073Z",
     "start_time": "2024-05-22T19:06:55.132557Z"
    }
   },
   "outputs": [],
   "source": [
    "data.drop('issue_d', axis=1, inplace=True)"
   ]
  },
  {
   "cell_type": "code",
   "execution_count": 14,
   "id": "0d47d4eb-3ca0-4c23-947f-56b937c800d1",
   "metadata": {
    "ExecuteTime": {
     "end_time": "2024-05-22T19:06:56.463975Z",
     "start_time": "2024-05-22T19:06:55.195789Z"
    }
   },
   "outputs": [],
   "source": [
    "data['earliest_cr_line'] = data['earliest_cr_line'].apply(lambda x: datetime.strptime(x, \"%b-%Y\").year)"
   ]
  },
  {
   "cell_type": "code",
   "execution_count": 15,
   "id": "54f5f193-e11d-42df-8fb6-abbe3a182830",
   "metadata": {
    "ExecuteTime": {
     "end_time": "2024-05-22T19:06:56.471537Z",
     "start_time": "2024-05-22T19:06:56.464744Z"
    }
   },
   "outputs": [
    {
     "data": {
      "text/plain": [
       "65"
      ]
     },
     "execution_count": 15,
     "metadata": {},
     "output_type": "execute_result"
    }
   ],
   "source": [
    "data.earliest_cr_line.nunique()"
   ]
  },
  {
   "cell_type": "code",
   "execution_count": 16,
   "id": "c9eff0a7-65c8-496f-a1dc-5275e5a80699",
   "metadata": {
    "ExecuteTime": {
     "end_time": "2024-05-22T19:06:56.474418Z",
     "start_time": "2024-05-22T19:06:56.471819Z"
    }
   },
   "outputs": [
    {
     "data": {
      "text/plain": [
       "earliest_cr_line\n",
       "2000    29366\n",
       "2001    29083\n",
       "1999    26491\n",
       "2002    25901\n",
       "2003    23657\n",
       "        ...  \n",
       "1951        3\n",
       "1950        3\n",
       "1953        2\n",
       "1944        1\n",
       "1948        1\n",
       "Name: count, Length: 65, dtype: int64"
      ]
     },
     "execution_count": 16,
     "metadata": {},
     "output_type": "execute_result"
    }
   ],
   "source": [
    "data.earliest_cr_line.value_counts()"
   ]
  },
  {
   "cell_type": "markdown",
   "id": "6b983ded-fb7f-4f5f-93a2-3ecd3a12ed1e",
   "metadata": {},
   "source": [
    "### Removing or Imputing missing values"
   ]
  },
  {
   "cell_type": "code",
   "execution_count": 17,
   "id": "bbf78381-e948-40c4-82c8-4f62d54c5856",
   "metadata": {
    "ExecuteTime": {
     "end_time": "2024-05-22T19:06:56.531795Z",
     "start_time": "2024-05-22T19:06:56.474970Z"
    }
   },
   "outputs": [
    {
     "name": "stdout",
     "output_type": "stream",
     "text": [
      "'emp_title' number of missing values: '22927' ==> '5.789%'\n",
      "'emp_length' number of missing values: '18301' ==> '4.621%'\n",
      "'title' number of missing values: '1756' ==> '0.443%'\n",
      "'revol_util' number of missing values: '276' ==> '0.070%'\n",
      "'mort_acc' number of missing values: '37795' ==> '9.543%'\n",
      "'pub_rec_bankruptcies' number of missing values: '535' ==> '0.135%'\n"
     ]
    }
   ],
   "source": [
    "for column in data.columns:\n",
    "    if data[column].isna().sum() != 0:\n",
    "        missing = data[column].isna().sum()\n",
    "        portion = (missing / data[column].shape[0]) * 100\n",
    "        print(f\"'{column}' number of missing values: '{missing}' ==> '{portion:.3f}%'\")\n",
    "        # print(\n",
    "        #     f\"{bold_start}'{column}'{bold_end}: number of missing values: {bold_start}'{missing}'{bold_end} ==> {bold_start}'{portion:.3f}%'{bold_end}\")"
   ]
  },
  {
   "cell_type": "code",
   "execution_count": 18,
   "id": "173c1875-836a-461f-9f38-021abceb2d01",
   "metadata": {
    "ExecuteTime": {
     "end_time": "2024-05-22T19:06:56.570068Z",
     "start_time": "2024-05-22T19:06:56.557973Z"
    }
   },
   "outputs": [
    {
     "data": {
      "text/plain": [
       "173105"
      ]
     },
     "execution_count": 18,
     "metadata": {},
     "output_type": "execute_result"
    }
   ],
   "source": [
    "data['emp_title'].nunique()"
   ]
  },
  {
   "cell_type": "markdown",
   "id": "69e99677-9109-4431-9aa9-e4a87a6bf834",
   "metadata": {},
   "source": [
    "The **emp_title** has too many unique values to encode and dataset will not be sufficent if used with it. So, the best thing to do is drop it."
   ]
  },
  {
   "cell_type": "code",
   "execution_count": 19,
   "id": "720d5354-3710-4a7a-82c6-d910dfac33ed",
   "metadata": {
    "ExecuteTime": {
     "end_time": "2024-05-22T19:06:56.600839Z",
     "start_time": "2024-05-22T19:06:56.563489Z"
    }
   },
   "outputs": [],
   "source": [
    "data.drop('emp_title', axis=1, inplace=True)"
   ]
  },
  {
   "cell_type": "markdown",
   "id": "06d215aa-3b68-4c3d-98eb-258e13cb74d1",
   "metadata": {},
   "source": [
    "Now, let's look at **emp_length**"
   ]
  },
  {
   "cell_type": "code",
   "execution_count": 20,
   "id": "8b17f680-dd22-4647-9697-135689806955",
   "metadata": {
    "ExecuteTime": {
     "end_time": "2024-05-22T19:06:56.602662Z",
     "start_time": "2024-05-22T19:06:56.597612Z"
    }
   },
   "outputs": [
    {
     "data": {
      "text/plain": [
       "array(['10+ years', '4 years', '< 1 year', '6 years', '9 years',\n",
       "       '2 years', '3 years', '8 years', '7 years', '5 years', '1 year',\n",
       "       nan], dtype=object)"
      ]
     },
     "execution_count": 20,
     "metadata": {},
     "output_type": "execute_result"
    }
   ],
   "source": [
    "data[\"emp_length\"].unique()"
   ]
  },
  {
   "cell_type": "code",
   "execution_count": 21,
   "id": "3c5bed94-d39c-462f-97c3-4f4fff2289d5",
   "metadata": {
    "ExecuteTime": {
     "end_time": "2024-05-22T19:06:56.864280Z",
     "start_time": "2024-05-22T19:06:56.613523Z"
    }
   },
   "outputs": [
    {
     "name": "stdout",
     "output_type": "stream",
     "text": [
      "10+ years years in the positions:\n",
      "loan_status\n",
      "1   0.82\n",
      "0   0.18\n",
      "Name: proportion, dtype: float64\n",
      "\n",
      "=============================================\n",
      "\n",
      "4 years years in the positions:\n",
      "loan_status\n",
      "1   0.81\n",
      "0   0.19\n",
      "Name: proportion, dtype: float64\n",
      "\n",
      "=============================================\n",
      "\n",
      "< 1 year years in the positions:\n",
      "loan_status\n",
      "1   0.79\n",
      "0   0.21\n",
      "Name: proportion, dtype: float64\n",
      "\n",
      "=============================================\n",
      "\n",
      "6 years years in the positions:\n",
      "loan_status\n",
      "1   0.81\n",
      "0   0.19\n",
      "Name: proportion, dtype: float64\n",
      "\n",
      "=============================================\n",
      "\n",
      "9 years years in the positions:\n",
      "loan_status\n",
      "1   0.80\n",
      "0   0.20\n",
      "Name: proportion, dtype: float64\n",
      "\n",
      "=============================================\n",
      "\n",
      "2 years years in the positions:\n",
      "loan_status\n",
      "1   0.81\n",
      "0   0.19\n",
      "Name: proportion, dtype: float64\n",
      "\n",
      "=============================================\n",
      "\n",
      "3 years years in the positions:\n",
      "loan_status\n",
      "1   0.80\n",
      "0   0.20\n",
      "Name: proportion, dtype: float64\n",
      "\n",
      "=============================================\n",
      "\n",
      "8 years years in the positions:\n",
      "loan_status\n",
      "1   0.80\n",
      "0   0.20\n",
      "Name: proportion, dtype: float64\n",
      "\n",
      "=============================================\n",
      "\n",
      "7 years years in the positions:\n",
      "loan_status\n",
      "1   0.81\n",
      "0   0.19\n",
      "Name: proportion, dtype: float64\n",
      "\n",
      "=============================================\n",
      "\n",
      "5 years years in the positions:\n",
      "loan_status\n",
      "1   0.81\n",
      "0   0.19\n",
      "Name: proportion, dtype: float64\n",
      "\n",
      "=============================================\n",
      "\n",
      "1 year years in the positions:\n",
      "loan_status\n",
      "1   0.80\n",
      "0   0.20\n",
      "Name: proportion, dtype: float64\n",
      "\n",
      "=============================================\n",
      "\n",
      "nan years in the positions:\n",
      "Series([], Name: proportion, dtype: float64)\n",
      "\n",
      "=============================================\n",
      "\n"
     ]
    }
   ],
   "source": [
    "for year in data[\"emp_length\"].unique():\n",
    "    print(f\"{year} years in the positions:\")\n",
    "    # print(f\"{bold_start}{year}{bold_end} years in the positions:\")\n",
    "    print(f\"{data[data.emp_length == year].loan_status.value_counts(normalize=True)}\")\n",
    "    print(\"\\n=============================================\\n\")"
   ]
  },
  {
   "cell_type": "markdown",
   "id": "ec114452-b2ab-4275-b017-cf06c8aada19",
   "metadata": {},
   "source": [
    "**Charge offs** seem to be extremely similar across all **emp_length**. So, we are going to drop it."
   ]
  },
  {
   "cell_type": "code",
   "execution_count": 22,
   "id": "b72e7f05-d13c-4c41-aa83-97975fafa571",
   "metadata": {
    "ExecuteTime": {
     "end_time": "2024-05-22T19:06:56.876823Z",
     "start_time": "2024-05-22T19:06:56.858308Z"
    }
   },
   "outputs": [],
   "source": [
    "data.drop('emp_length', axis=1, inplace=True)"
   ]
  },
  {
   "cell_type": "markdown",
   "id": "828564bb-295f-4c74-8b02-d9fd20acde49",
   "metadata": {},
   "source": [
    "Now, let's have a look at **title**."
   ]
  },
  {
   "cell_type": "code",
   "execution_count": 23,
   "id": "4477df7b-bd84-4d43-9cbc-089c600dfa3c",
   "metadata": {
    "ExecuteTime": {
     "end_time": "2024-05-22T19:06:56.914186Z",
     "start_time": "2024-05-22T19:06:56.898190Z"
    }
   },
   "outputs": [
    {
     "data": {
      "text/plain": [
       "title\n",
       "Debt consolidation         152472\n",
       "Credit card refinancing     51487\n",
       "Home improvement            15264\n",
       "Other                       12930\n",
       "Debt Consolidation          11608\n",
       "Name: count, dtype: int64"
      ]
     },
     "execution_count": 23,
     "metadata": {},
     "output_type": "execute_result"
    }
   ],
   "source": [
    "data.title.value_counts().head()"
   ]
  },
  {
   "cell_type": "code",
   "execution_count": 24,
   "id": "8ff63932-5276-4c67-8e5a-3786080c56a0",
   "metadata": {
    "ExecuteTime": {
     "end_time": "2024-05-22T19:06:56.935691Z",
     "start_time": "2024-05-22T19:06:56.921788Z"
    }
   },
   "outputs": [
    {
     "data": {
      "text/plain": [
       "(48817,)"
      ]
     },
     "execution_count": 24,
     "metadata": {},
     "output_type": "execute_result"
    }
   ],
   "source": [
    "data.title.unique().shape"
   ]
  },
  {
   "cell_type": "code",
   "execution_count": 25,
   "id": "23e4a58b-dcfe-465b-8cef-b39d7ad2a49b",
   "metadata": {
    "ExecuteTime": {
     "end_time": "2024-05-22T19:06:56.965578Z",
     "start_time": "2024-05-22T19:06:56.925630Z"
    }
   },
   "outputs": [],
   "source": [
    "data.drop(\"title\", axis=1, inplace=True)"
   ]
  },
  {
   "cell_type": "markdown",
   "id": "55f54cba-03c9-4756-9230-c97729437f6a",
   "metadata": {},
   "source": [
    "Let's have a look at **mort_acc**."
   ]
  },
  {
   "cell_type": "code",
   "execution_count": 26,
   "id": "2155bc8e-ba20-4456-a002-19d6ef61dcec",
   "metadata": {
    "ExecuteTime": {
     "end_time": "2024-05-22T19:06:56.967160Z",
     "start_time": "2024-05-22T19:06:56.949568Z"
    }
   },
   "outputs": [
    {
     "data": {
      "text/plain": [
       "mort_acc\n",
       "1.00    218458\n",
       "0.00    139777\n",
       "Name: count, dtype: int64"
      ]
     },
     "execution_count": 26,
     "metadata": {},
     "output_type": "execute_result"
    }
   ],
   "source": [
    "data.mort_acc.value_counts()"
   ]
  },
  {
   "cell_type": "code",
   "execution_count": 27,
   "id": "c55cf872-c297-4114-bbf5-7b5f4c5e8d4c",
   "metadata": {
    "ExecuteTime": {
     "end_time": "2024-05-22T19:06:56.968737Z",
     "start_time": "2024-05-22T19:06:56.952678Z"
    }
   },
   "outputs": [
    {
     "data": {
      "text/plain": [
       "37795"
      ]
     },
     "execution_count": 27,
     "metadata": {},
     "output_type": "execute_result"
    }
   ],
   "source": [
    "data.mort_acc.isna().sum()"
   ]
  },
  {
   "cell_type": "markdown",
   "id": "6c994ec6-bf3f-430f-8597-42c69e8f702e",
   "metadata": {},
   "source": [
    "Imputing **mort_acc** should be imputed using either mean or prediction model, for this purpose we will do using **Random Forest**"
   ]
  },
  {
   "cell_type": "code",
   "execution_count": 28,
   "id": "71fd378b-3bcf-4444-a96f-a021b5d07705",
   "metadata": {
    "ExecuteTime": {
     "end_time": "2024-05-22T19:07:53.496659Z",
     "start_time": "2024-05-22T19:06:56.956845Z"
    }
   },
   "outputs": [],
   "source": [
    "# Split the data into two parts: one with missing values and one without\n",
    "missing_data = data[data['mort_acc'].isnull()]\n",
    "complete_data = data.dropna(subset=['mort_acc'])\n",
    "\n",
    "# Select features and target variable\n",
    "X = complete_data.drop(columns=['mort_acc'])\n",
    "y = complete_data['mort_acc']\n",
    "\n",
    "# Split the complete data into training and testing sets\n",
    "X_train, X_test, y_train, y_test = train_test_split(X, y, test_size=0.2, random_state=42)\n",
    "\n",
    "# Train a RandomForestClassifier\n",
    "model = RandomForestClassifier(n_estimators=100, random_state=42)\n",
    "model.fit(X_train, y_train)\n",
    "\n",
    "# Predict missing values\n",
    "imputed_values = model.predict(missing_data.drop(columns=['mort_acc']))\n",
    "\n",
    "# Impute missing values in the mort_acc column\n",
    "data.loc[data['mort_acc'].isnull(), 'mort_acc'] = imputed_values"
   ]
  },
  {
   "cell_type": "code",
   "execution_count": 29,
   "id": "5407fd0a-672c-46a8-bcee-64c7755519af",
   "metadata": {
    "ExecuteTime": {
     "end_time": "2024-05-22T19:07:53.507002Z",
     "start_time": "2024-05-22T19:07:53.495681Z"
    }
   },
   "outputs": [
    {
     "data": {
      "text/plain": [
       "mort_acc\n",
       "1.00    237764\n",
       "0.00    158266\n",
       "Name: count, dtype: int64"
      ]
     },
     "execution_count": 29,
     "metadata": {},
     "output_type": "execute_result"
    }
   ],
   "source": [
    "data.mort_acc.value_counts()"
   ]
  },
  {
   "cell_type": "markdown",
   "id": "96b4cb7e-18c3-4d92-b98f-9bab6b843ba9",
   "metadata": {},
   "source": []
  },
  {
   "cell_type": "code",
   "execution_count": 30,
   "id": "1a3d43ac-6d7f-4c5d-8fdc-1a3130bf7559",
   "metadata": {
    "ExecuteTime": {
     "end_time": "2024-05-22T19:07:53.585303Z",
     "start_time": "2024-05-22T19:07:53.505275Z"
    }
   },
   "outputs": [
    {
     "name": "stdout",
     "output_type": "stream",
     "text": [
      "'revol_util': number of missing values '276' ==> '0.070%'\n",
      "'pub_rec_bankruptcies': number of missing values '535' ==> '0.135%'\n"
     ]
    },
    {
     "data": {
      "text/plain": [
       "(395219, 40)"
      ]
     },
     "metadata": {},
     "output_type": "display_data"
    },
    {
     "data": {
      "text/plain": [
       "loan_status\n",
       "1    317696\n",
       "0     77523\n",
       "Name: count, dtype: int64"
      ]
     },
     "execution_count": 30,
     "metadata": {},
     "output_type": "execute_result"
    }
   ],
   "source": [
    "for column in data.columns:\n",
    "    if data[column].isna().sum() != 0:\n",
    "        missing = data[column].isna().sum()\n",
    "        portion = (missing / data.shape[0]) * 100\n",
    "        print(f\"'{column}': number of missing values '{missing}' ==> '{portion:.3f}%'\")\n",
    "\n",
    "# drop missing value instances that are less than 0.2% of the dataset\n",
    "data.dropna(inplace=True)\n",
    "display(data.shape)\n",
    "data.loan_status.value_counts()"
   ]
  },
  {
   "cell_type": "markdown",
   "id": "f8850781f2f6dd5",
   "metadata": {
    "collapsed": false,
    "jupyter": {
     "outputs_hidden": false
    }
   },
   "source": [
    "Removing `revol_util & pub_rec_bankruptcies` missing values instances\n",
    "These two features have missing data points, but they account for less than 0.5% of the total data. So we are going to remove the rows that are missing those values in those columns with dropna()."
   ]
  },
  {
   "cell_type": "code",
   "execution_count": 31,
   "id": "29f12641-f9eb-4b79-8c49-8164b7ff64ae",
   "metadata": {
    "ExecuteTime": {
     "end_time": "2024-05-22T19:07:53.647217Z",
     "start_time": "2024-05-22T19:07:53.581138Z"
    }
   },
   "outputs": [
    {
     "name": "stdout",
     "output_type": "stream",
     "text": [
      "<class 'pandas.core.frame.DataFrame'>\n",
      "Index: 395219 entries, 0 to 396029\n",
      "Data columns (total 40 columns):\n",
      " #   Column                               Non-Null Count   Dtype  \n",
      "---  ------                               --------------   -----  \n",
      " 0   loan_amnt                            395219 non-null  float64\n",
      " 1   term                                 395219 non-null  int64  \n",
      " 2   int_rate                             395219 non-null  float64\n",
      " 3   installment                          395219 non-null  float64\n",
      " 4   annual_inc                           395219 non-null  float64\n",
      " 5   loan_status                          395219 non-null  int64  \n",
      " 6   dti                                  395219 non-null  float64\n",
      " 7   earliest_cr_line                     395219 non-null  int64  \n",
      " 8   open_acc                             395219 non-null  float64\n",
      " 9   pub_rec                              395219 non-null  int64  \n",
      " 10  revol_bal                            395219 non-null  float64\n",
      " 11  revol_util                           395219 non-null  float64\n",
      " 12  total_acc                            395219 non-null  float64\n",
      " 13  mort_acc                             395219 non-null  float64\n",
      " 14  pub_rec_bankruptcies                 395219 non-null  float64\n",
      " 15  verification_status_Source Verified  395219 non-null  bool   \n",
      " 16  verification_status_Verified         395219 non-null  bool   \n",
      " 17  purpose_credit_card                  395219 non-null  bool   \n",
      " 18  purpose_debt_consolidation           395219 non-null  bool   \n",
      " 19  purpose_educational                  395219 non-null  bool   \n",
      " 20  purpose_home_improvement             395219 non-null  bool   \n",
      " 21  purpose_house                        395219 non-null  bool   \n",
      " 22  purpose_major_purchase               395219 non-null  bool   \n",
      " 23  purpose_medical                      395219 non-null  bool   \n",
      " 24  purpose_moving                       395219 non-null  bool   \n",
      " 25  purpose_other                        395219 non-null  bool   \n",
      " 26  purpose_renewable_energy             395219 non-null  bool   \n",
      " 27  purpose_small_business               395219 non-null  bool   \n",
      " 28  purpose_vacation                     395219 non-null  bool   \n",
      " 29  purpose_wedding                      395219 non-null  bool   \n",
      " 30  initial_list_status_w                395219 non-null  bool   \n",
      " 31  application_type_INDIVIDUAL          395219 non-null  bool   \n",
      " 32  application_type_JOINT               395219 non-null  bool   \n",
      " 33  home_ownership_MORTGAGE              395219 non-null  bool   \n",
      " 34  home_ownership_NONE                  395219 non-null  bool   \n",
      " 35  home_ownership_OTHER                 395219 non-null  bool   \n",
      " 36  home_ownership_OWN                   395219 non-null  bool   \n",
      " 37  home_ownership_RENT                  395219 non-null  bool   \n",
      " 38  zip_code_encoded                     395219 non-null  int32  \n",
      " 39  sub_grade_encoded                    395219 non-null  int64  \n",
      "dtypes: bool(23), float64(11), int32(1), int64(5)\n",
      "memory usage: 61.4 MB\n"
     ]
    }
   ],
   "source": [
    "data.info()"
   ]
  },
  {
   "cell_type": "markdown",
   "id": "bb06be12-9661-4601-b4aa-2d1cdc0dec9c",
   "metadata": {},
   "source": [
    "## Preparing the Test data"
   ]
  },
  {
   "cell_type": "markdown",
   "id": "38872c11-da77-4078-a9cd-2fef1da3936f",
   "metadata": {},
   "source": [
    "### Checking distribution of data"
   ]
  },
  {
   "cell_type": "code",
   "execution_count": 32,
   "id": "6fbf9f52-5e63-4efb-b35e-94ebb8024914",
   "metadata": {
    "ExecuteTime": {
     "end_time": "2024-05-22T19:07:53.862668Z",
     "start_time": "2024-05-22T19:07:53.619225Z"
    }
   },
   "outputs": [
    {
     "name": "stdout",
     "output_type": "stream",
     "text": [
      "Original data shape: (395219, 40)\n",
      "Cleaned data shape: (395219, 40)\n",
      "\n",
      "Count of previous outliers in each column:\n",
      "Column: loan_amnt - Outliers: 184\n",
      "Column: term - Outliers: 0\n",
      "Column: int_rate - Outliers: 754\n",
      "Column: installment - Outliers: 5042\n",
      "Column: annual_inc - Outliers: 3190\n",
      "Column: loan_status - Outliers: 0\n",
      "Column: dti - Outliers: 12\n",
      "Column: earliest_cr_line - Outliers: 4993\n",
      "Column: open_acc - Outliers: 4873\n",
      "Column: pub_rec - Outliers: 0\n",
      "Column: revol_bal - Outliers: 4771\n",
      "Column: revol_util - Outliers: 16\n",
      "Column: total_acc - Outliers: 3396\n",
      "Column: mort_acc - Outliers: 0\n",
      "Column: pub_rec_bankruptcies - Outliers: 0\n",
      "Column: zip_code_encoded - Outliers: 0\n",
      "Column: sub_grade_encoded - Outliers: 1988\n",
      "\n",
      "Remaining outliers in each column after cleaning:\n",
      "loan_amnt                                  0\n",
      "term                                       0\n",
      "int_rate                                  51\n",
      "installment                             2700\n",
      "annual_inc                              6888\n",
      "loan_status                                0\n",
      "dti                                      216\n",
      "earliest_cr_line                        2623\n",
      "open_acc                                3063\n",
      "pub_rec                                    0\n",
      "revol_bal                               7176\n",
      "revol_util                                 0\n",
      "total_acc                               1768\n",
      "mort_acc                                   0\n",
      "pub_rec_bankruptcies                       0\n",
      "verification_status_Source Verified        0\n",
      "verification_status_Verified               0\n",
      "purpose_credit_card                        0\n",
      "purpose_debt_consolidation                 0\n",
      "purpose_educational                      246\n",
      "purpose_home_improvement               23961\n",
      "purpose_house                           2197\n",
      "purpose_major_purchase                  8756\n",
      "purpose_medical                         4175\n",
      "purpose_moving                          2842\n",
      "purpose_other                          21059\n",
      "purpose_renewable_energy                 329\n",
      "purpose_small_business                  5656\n",
      "purpose_vacation                        2442\n",
      "purpose_wedding                         1794\n",
      "initial_list_status_w                      0\n",
      "application_type_INDIVIDUAL              711\n",
      "application_type_JOINT                   425\n",
      "home_ownership_MORTGAGE                    0\n",
      "home_ownership_NONE                       29\n",
      "home_ownership_OTHER                     110\n",
      "home_ownership_OWN                     37660\n",
      "home_ownership_RENT                        0\n",
      "zip_code_encoded                           0\n",
      "sub_grade_encoded                          0\n",
      "dtype: int64\n"
     ]
    }
   ],
   "source": [
    "# Define a threshold for Z-score\n",
    "threshold = 3\n",
    "\n",
    "# Create a copy of the data to avoid modifying the original DataFrame\n",
    "data_clean = data.copy()\n",
    "\n",
    "# Dictionary to store counts of outliers for each column\n",
    "outliers_count_dict = {}\n",
    "\n",
    "# Loop through each numerical column in the DataFrame\n",
    "for column in data_clean.select_dtypes(include=[np.number]).columns:\n",
    "    # Calculate Z-scores\n",
    "    z_scores = (data_clean[column] - data_clean[column].mean()) / data_clean[column].std()\n",
    "    # Identify outliers\n",
    "    outliers = np.abs(z_scores) > threshold\n",
    "    # Store the count of previous outliers\n",
    "    outliers_count_dict[column] = outliers.sum()\n",
    "    # Calculate the mean value of the column\n",
    "    mean_value = data_clean[column].mean()\n",
    "    # If the column is of type int64, cast the mean value to int\n",
    "    if pd.api.types.is_integer_dtype(data_clean[column]):\n",
    "        mean_value = int(mean_value)\n",
    "    # Replace outliers with the mean value of the column\n",
    "    data_clean.loc[outliers, column] = mean_value\n",
    "\n",
    "# Print the shape of the original and cleaned data\n",
    "print(f\"Original data shape: {data.shape}\")\n",
    "print(f\"Cleaned data shape: {data_clean.shape}\")\n",
    "\n",
    "# Print count of previous outliers\n",
    "print(\"\\nCount of previous outliers in each column:\")\n",
    "for column, count in outliers_count_dict.items():\n",
    "    print(f\"Column: {column} - Outliers: {count}\")\n",
    "\n",
    "# Optional: Check if there are any remaining outliers\n",
    "remaining_outliers = ((data_clean - data_clean.mean()) / data_clean.std()).abs() > threshold\n",
    "print(\"\\nRemaining outliers in each column after cleaning:\")\n",
    "print(remaining_outliers.sum())"
   ]
  },
  {
   "cell_type": "markdown",
   "id": "344da8236d6a5d9d",
   "metadata": {
    "collapsed": false,
    "jupyter": {
     "outputs_hidden": false
    }
   },
   "source": [
    "## Oversampling the dataset using SMOTE and ADASYN "
   ]
  },
  {
   "cell_type": "code",
   "execution_count": 33,
   "id": "953e41b7-dbf8-44bf-a8d4-ce97ef87fb15",
   "metadata": {
    "ExecuteTime": {
     "end_time": "2024-05-22T19:08:12.717614Z",
     "start_time": "2024-05-22T19:07:53.865898Z"
    }
   },
   "outputs": [
    {
     "name": "stdout",
     "output_type": "stream",
     "text": [
      "Original dataset shape: Counter({1: 254157, 0: 62018})\n",
      "Resampled dataset shape: Counter({0: 254157, 1: 254157})\n",
      "SMOTE sampled dataset shape: Counter({0: 254157, 1: 254157})\n",
      "ADASYN sampled dataset shape: Counter({1: 254157, 0: 247625})\n"
     ]
    }
   ],
   "source": [
    "def smote_oversampling(x, y):\n",
    "    \"\"\"\n",
    "    Synthetic Minority Sampling\n",
    "    :param x: predictors dataframe\n",
    "    :param y: label dataframe\n",
    "    :return: x, y dataframes with synthetic instances\n",
    "    \"\"\"\n",
    "    smote = SMOTE(random_state=42)\n",
    "    # fit and resample the data\n",
    "    x_resampled, y_resampled = smote.fit_resample(x, y)\n",
    "\n",
    "    return x_resampled, y_resampled\n",
    "\n",
    "\n",
    "def adasyn_oversampling(x, y):\n",
    "    \"\"\"\n",
    "    Adaptive Synthetic Sampling\n",
    "    :param x: predictors dataframe\n",
    "    :param y: label dataframe\n",
    "    :return: x, y dataframes with synthetic instances\n",
    "    \"\"\"\n",
    "    adasyn = ADASYN(random_state=42)\n",
    "    # fit and resample the data\n",
    "    x_resampled, y_resampled = adasyn.fit_resample(x, y)\n",
    "\n",
    "    return x_resampled, y_resampled\n",
    "\n",
    "\n",
    "# Assuming data_clean is your DataFrame and 'target' is the target variable\n",
    "X = data_clean.drop(columns=['loan_status'])\n",
    "y = data_clean['loan_status']\n",
    "\n",
    "# Split the data into training and testing sets\n",
    "X_train, X_test, y_train, y_test = train_test_split(X, y, test_size=0.2, random_state=42, stratify=y)\n",
    "\n",
    "# Apply SMOTE to the training data\n",
    "smote = SMOTE(random_state=42)\n",
    "X_train_res, y_train_res = smote.fit_resample(X_train, y_train)\n",
    "\n",
    "smote_x, smote_y = smote_oversampling(X_train, y_train)\n",
    "adasyn_x, adasyn_y = adasyn_oversampling(X_train, y_train)\n",
    "\n",
    "\n",
    "print(f\"Original dataset shape: {Counter(y_train)}\")\n",
    "print(f\"Resampled dataset shape: {Counter(y_train_res)}\")\n",
    "print(f\"SMOTE sampled dataset shape: {Counter(smote_y)}\")\n",
    "print(f\"ADASYN sampled dataset shape: {Counter(adasyn_y)}\")\n"
   ]
  },
  {
   "cell_type": "markdown",
   "id": "caa46043b090cf98",
   "metadata": {
    "collapsed": false,
    "jupyter": {
     "outputs_hidden": false
    }
   },
   "source": [
    "## Feature Importance Analysis"
   ]
  },
  {
   "cell_type": "code",
   "execution_count": 34,
   "id": "ba685998-e558-4c97-b93f-b03f676fcfd0",
   "metadata": {
    "ExecuteTime": {
     "start_time": "2024-05-22T19:08:12.719634Z"
    },
    "is_executing": true
   },
   "outputs": [
    {
     "name": "stdout",
     "output_type": "stream",
     "text": [
      "Feature importance on SMOTE dataset\n",
      "                                Feature  Importance\n",
      "37                     zip_code_encoded        0.22\n",
      "1                                  term        0.07\n",
      "38                    sub_grade_encoded        0.06\n",
      "12                             mort_acc        0.06\n",
      "2                              int_rate        0.06\n",
      "32              home_ownership_MORTGAGE        0.04\n",
      "5                                   dti        0.04\n",
      "4                            annual_inc        0.03\n",
      "10                           revol_util        0.03\n",
      "9                             revol_bal        0.03\n",
      "36                  home_ownership_RENT        0.03\n",
      "3                           installment        0.03\n",
      "15         verification_status_Verified        0.03\n",
      "7                              open_acc        0.03\n",
      "14  verification_status_Source Verified        0.03\n",
      "11                            total_acc        0.03\n",
      "0                             loan_amnt        0.03\n",
      "16                  purpose_credit_card        0.02\n",
      "17           purpose_debt_consolidation        0.02\n",
      "6                      earliest_cr_line        0.02\n",
      "13                 pub_rec_bankruptcies        0.02\n",
      "29                initial_list_status_w        0.01\n",
      "35                   home_ownership_OWN        0.01\n",
      "8                               pub_rec        0.01\n",
      "19             purpose_home_improvement        0.01\n",
      "24                        purpose_other        0.01\n",
      "26               purpose_small_business        0.00\n",
      "21               purpose_major_purchase        0.00\n",
      "22                      purpose_medical        0.00\n",
      "23                       purpose_moving        0.00\n",
      "27                     purpose_vacation        0.00\n",
      "20                        purpose_house        0.00\n",
      "28                      purpose_wedding        0.00\n",
      "25             purpose_renewable_energy        0.00\n",
      "30          application_type_INDIVIDUAL        0.00\n",
      "18                  purpose_educational        0.00\n",
      "31               application_type_JOINT        0.00\n",
      "34                 home_ownership_OTHER        0.00\n",
      "33                  home_ownership_NONE        0.00\n",
      "Feature importance on ADASYN dataset\n",
      "                                Feature  Importance\n",
      "37                     zip_code_encoded        0.23\n",
      "38                    sub_grade_encoded        0.07\n",
      "12                             mort_acc        0.06\n",
      "1                                  term        0.06\n",
      "2                              int_rate        0.05\n",
      "32              home_ownership_MORTGAGE        0.04\n",
      "5                                   dti        0.04\n",
      "10                           revol_util        0.03\n",
      "4                            annual_inc        0.03\n",
      "9                             revol_bal        0.03\n",
      "36                  home_ownership_RENT        0.03\n",
      "3                           installment        0.03\n",
      "7                              open_acc        0.03\n",
      "15         verification_status_Verified        0.03\n",
      "14  verification_status_Source Verified        0.03\n",
      "11                            total_acc        0.03\n",
      "0                             loan_amnt        0.03\n",
      "16                  purpose_credit_card        0.02\n",
      "6                      earliest_cr_line        0.02\n",
      "17           purpose_debt_consolidation        0.02\n",
      "13                 pub_rec_bankruptcies        0.02\n",
      "35                   home_ownership_OWN        0.01\n",
      "29                initial_list_status_w        0.01\n",
      "8                               pub_rec        0.01\n",
      "19             purpose_home_improvement        0.01\n",
      "24                        purpose_other        0.01\n",
      "26               purpose_small_business        0.00\n",
      "21               purpose_major_purchase        0.00\n",
      "22                      purpose_medical        0.00\n",
      "23                       purpose_moving        0.00\n",
      "27                     purpose_vacation        0.00\n",
      "20                        purpose_house        0.00\n",
      "28                      purpose_wedding        0.00\n",
      "25             purpose_renewable_energy        0.00\n",
      "18                  purpose_educational        0.00\n",
      "30          application_type_INDIVIDUAL        0.00\n",
      "31               application_type_JOINT        0.00\n",
      "34                 home_ownership_OTHER        0.00\n",
      "33                  home_ownership_NONE        0.00\n"
     ]
    }
   ],
   "source": [
    "print(\"Feature importance on SMOTE dataset\")\n",
    "feature_importance_random_forest(smote_x, smote_y)\n",
    "\n",
    "print(\"Feature importance on ADASYN dataset\")\n",
    "feature_importance_random_forest(adasyn_x, adasyn_y)"
   ]
  },
  {
   "cell_type": "markdown",
   "id": "7c548992-5f56-4053-b5de-e50417216e1f",
   "metadata": {},
   "source": [
    "# Logistic Regression"
   ]
  },
  {
   "cell_type": "code",
   "execution_count": 35,
   "id": "4e7a79b7-5f58-4790-adfe-25c159e2acbf",
   "metadata": {},
   "outputs": [
    {
     "name": "stderr",
     "output_type": "stream",
     "text": [
      "C:\\Users\\outse\\anaconda3\\Lib\\site-packages\\sklearn\\linear_model\\_logistic.py:469: ConvergenceWarning: lbfgs failed to converge (status=1):\n",
      "STOP: TOTAL NO. of ITERATIONS REACHED LIMIT.\n",
      "\n",
      "Increase the number of iterations (max_iter) or scale the data as shown in:\n",
      "    https://scikit-learn.org/stable/modules/preprocessing.html\n",
      "Please also refer to the documentation for alternative solver options:\n",
      "    https://scikit-learn.org/stable/modules/linear_model.html#logistic-regression\n",
      "  n_iter_i = _check_optimize_result(\n"
     ]
    },
    {
     "name": "stdout",
     "output_type": "stream",
     "text": [
      "Validation Accuracy: 0.7193950219941926\n",
      "Validation Confusion Matrix:\n",
      "[[46373 17261]\n",
      " [18398 45047]]\n",
      "Validation Classification Report:\n",
      "              precision    recall  f1-score   support\n",
      "\n",
      "           0       0.72      0.73      0.72     63634\n",
      "           1       0.72      0.71      0.72     63445\n",
      "\n",
      "    accuracy                           0.72    127079\n",
      "   macro avg       0.72      0.72      0.72    127079\n",
      "weighted avg       0.72      0.72      0.72    127079\n",
      "\n"
     ]
    }
   ],
   "source": [
    "from sklearn.linear_model import LogisticRegression\n",
    "from sklearn.metrics import accuracy_score, confusion_matrix, classification_report\n",
    "\n",
    "X_train, X_val, y_train, y_val = train_test_split(smote_x, smote_y, test_size=0.25, random_state=42)\n",
    "\n",
    "model = LogisticRegression(solver='lbfgs', max_iter=1000)\n",
    "# model = LogisticRegression()\n",
    "model.fit(X_train, y_train)\n",
    "\n",
    "y_val_pred = model.predict(X_val)\n",
    "val_accuracy = accuracy_score(y_val, y_val_pred)\n",
    "val_conf_matrix = confusion_matrix(y_val, y_val_pred)\n",
    "val_class_report = classification_report(y_val, y_val_pred)\n",
    "\n",
    "print(f'Validation Accuracy: {val_accuracy}')\n",
    "print('Validation Confusion Matrix:')\n",
    "print(val_conf_matrix)\n",
    "print('Validation Classification Report:')\n",
    "print(val_class_report)"
   ]
  },
  {
   "cell_type": "code",
   "execution_count": 36,
   "id": "dc6fd967-86b2-4e32-95fd-818ee67fa9c4",
   "metadata": {},
   "outputs": [
    {
     "name": "stdout",
     "output_type": "stream",
     "text": [
      "Test Accuracy: 0.7069733313091443\n",
      "Test Confusion Matrix:\n",
      "[[10900  4605]\n",
      " [18557 44982]]\n",
      "Test Classification Report:\n",
      "              precision    recall  f1-score   support\n",
      "\n",
      "           0       0.37      0.70      0.48     15505\n",
      "           1       0.91      0.71      0.80     63539\n",
      "\n",
      "    accuracy                           0.71     79044\n",
      "   macro avg       0.64      0.71      0.64     79044\n",
      "weighted avg       0.80      0.71      0.73     79044\n",
      "\n"
     ]
    }
   ],
   "source": [
    "y_test_pred = model.predict(X_test)\n",
    "\n",
    "test_accuracy = accuracy_score(y_test, y_test_pred)\n",
    "test_conf_matrix = confusion_matrix(y_test, y_test_pred)\n",
    "test_class_report = classification_report(y_test, y_test_pred)\n",
    "\n",
    "print(f'Test Accuracy: {test_accuracy}')\n",
    "print('Test Confusion Matrix:')\n",
    "print(test_conf_matrix)\n",
    "print('Test Classification Report:')\n",
    "print(test_class_report)"
   ]
  },
  {
   "cell_type": "markdown",
   "id": "5214bd63-a071-4663-9fcd-ddd41a210693",
   "metadata": {},
   "source": [
    "# ANN"
   ]
  },
  {
   "cell_type": "code",
   "execution_count": 39,
   "id": "48cba897-cfa1-4538-8561-e67565d8013b",
   "metadata": {},
   "outputs": [
    {
     "name": "stdout",
     "output_type": "stream",
     "text": [
      "Epoch 1/10\n",
      "\u001b[1m12708/12708\u001b[0m \u001b[32m━━━━━━━━━━━━━━━━━━━━\u001b[0m\u001b[37m\u001b[0m \u001b[1m27s\u001b[0m 2ms/step - accuracy: 0.5370 - loss: 458.7292 - val_accuracy: 0.0000e+00 - val_loss: 1.6352\n",
      "Epoch 2/10\n",
      "\u001b[1m12708/12708\u001b[0m \u001b[32m━━━━━━━━━━━━━━━━━━━━\u001b[0m\u001b[37m\u001b[0m \u001b[1m24s\u001b[0m 2ms/step - accuracy: 0.5795 - loss: 0.8328 - val_accuracy: 0.0143 - val_loss: 1.2211\n",
      "Epoch 3/10\n",
      "\u001b[1m12708/12708\u001b[0m \u001b[32m━━━━━━━━━━━━━━━━━━━━\u001b[0m\u001b[37m\u001b[0m \u001b[1m23s\u001b[0m 2ms/step - accuracy: 0.6166 - loss: 0.6972 - val_accuracy: 0.5327 - val_loss: 0.6993\n",
      "Epoch 4/10\n",
      "\u001b[1m12708/12708\u001b[0m \u001b[32m━━━━━━━━━━━━━━━━━━━━\u001b[0m\u001b[37m\u001b[0m \u001b[1m23s\u001b[0m 2ms/step - accuracy: 0.6574 - loss: 0.6424 - val_accuracy: 0.3685 - val_loss: 0.8717\n",
      "Epoch 5/10\n",
      "\u001b[1m12708/12708\u001b[0m \u001b[32m━━━━━━━━━━━━━━━━━━━━\u001b[0m\u001b[37m\u001b[0m \u001b[1m23s\u001b[0m 2ms/step - accuracy: 0.6868 - loss: 0.5985 - val_accuracy: 0.7982 - val_loss: 0.4811\n",
      "Epoch 6/10\n",
      "\u001b[1m12708/12708\u001b[0m \u001b[32m━━━━━━━━━━━━━━━━━━━━\u001b[0m\u001b[37m\u001b[0m \u001b[1m27s\u001b[0m 2ms/step - accuracy: 0.7007 - loss: 0.5794 - val_accuracy: 0.4084 - val_loss: 0.7531\n",
      "Epoch 7/10\n",
      "\u001b[1m12708/12708\u001b[0m \u001b[32m━━━━━━━━━━━━━━━━━━━━\u001b[0m\u001b[37m\u001b[0m \u001b[1m24s\u001b[0m 2ms/step - accuracy: 0.7137 - loss: 0.5651 - val_accuracy: 0.6056 - val_loss: 0.6675\n",
      "Epoch 8/10\n",
      "\u001b[1m12708/12708\u001b[0m \u001b[32m━━━━━━━━━━━━━━━━━━━━\u001b[0m\u001b[37m\u001b[0m \u001b[1m26s\u001b[0m 2ms/step - accuracy: 0.7198 - loss: 0.5567 - val_accuracy: 0.5951 - val_loss: 0.6654\n",
      "Epoch 9/10\n",
      "\u001b[1m12708/12708\u001b[0m \u001b[32m━━━━━━━━━━━━━━━━━━━━\u001b[0m\u001b[37m\u001b[0m \u001b[1m23s\u001b[0m 2ms/step - accuracy: 0.7291 - loss: 0.5477 - val_accuracy: 0.8157 - val_loss: 0.4368\n",
      "Epoch 10/10\n",
      "\u001b[1m12708/12708\u001b[0m \u001b[32m━━━━━━━━━━━━━━━━━━━━\u001b[0m\u001b[37m\u001b[0m \u001b[1m23s\u001b[0m 2ms/step - accuracy: 0.7323 - loss: 0.5418 - val_accuracy: 0.6309 - val_loss: 0.6499\n",
      "\u001b[1m2471/2471\u001b[0m \u001b[32m━━━━━━━━━━━━━━━━━━━━\u001b[0m\u001b[37m\u001b[0m \u001b[1m3s\u001b[0m 1ms/step - accuracy: 0.8026 - loss: 0.4430\n",
      "Test Accuracy: 0.8027\n",
      "\u001b[1m2471/2471\u001b[0m \u001b[32m━━━━━━━━━━━━━━━━━━━━\u001b[0m\u001b[37m\u001b[0m \u001b[1m3s\u001b[0m 1ms/step\n",
      "              precision    recall  f1-score   support\n",
      "\n",
      "           0       0.50      0.46      0.48     15505\n",
      "           1       0.87      0.89      0.88     63539\n",
      "\n",
      "    accuracy                           0.80     79044\n",
      "   macro avg       0.68      0.67      0.68     79044\n",
      "weighted avg       0.80      0.80      0.80     79044\n",
      "\n"
     ]
    }
   ],
   "source": [
    "from tensorflow.keras.models import Sequential\n",
    "from tensorflow.keras.layers import Dense, Dropout\n",
    "\n",
    "# Define the model\n",
    "input_dim = smote_x.shape[1]\n",
    "model = Sequential()\n",
    "model.add(Dense(64, input_dim=input_dim))\n",
    "model.add(Dropout(0.5))  # Dropout layer with 50% dropout rate\n",
    "model.add(Dense(32))\n",
    "model.add(Dropout(0.5))  # Dropout layer with 50% dropout rate\n",
    "model.add(Dense(16))\n",
    "model.add(Dense(1, activation='sigmoid'))\n",
    "\n",
    "# Compile the model\n",
    "model.compile(optimizer='adam', loss='binary_crossentropy', metrics=['accuracy'])\n",
    "\n",
    "# Train the model with class weights\n",
    "model.fit(smote_x, smote_y, epochs=10, batch_size=32, validation_split=0.2)\n",
    "\n",
    "# Evaluate the model\n",
    "loss, accuracy = model.evaluate(X_test, y_test)\n",
    "print(f'Test Accuracy: {accuracy:.4f}')\n",
    "\n",
    "y_pred = model.predict(X_test)\n",
    "y_pred_classes = (y_pred > 0.5).astype(int)\n",
    "\n",
    "print(classification_report(y_test, y_pred_classes))"
   ]
  }
 ],
 "metadata": {
  "kernelspec": {
   "display_name": "Python 3 (ipykernel)",
   "language": "python",
   "name": "python3"
  },
  "language_info": {
   "codemirror_mode": {
    "name": "ipython",
    "version": 3
   },
   "file_extension": ".py",
   "mimetype": "text/x-python",
   "name": "python",
   "nbconvert_exporter": "python",
   "pygments_lexer": "ipython3",
   "version": "3.11.5"
  }
 },
 "nbformat": 4,
 "nbformat_minor": 5
}
